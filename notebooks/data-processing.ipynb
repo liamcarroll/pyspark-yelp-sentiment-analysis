{
 "cells": [
  {
   "cell_type": "markdown",
   "metadata": {},
   "source": [
    "# Setup"
   ]
  },
  {
   "cell_type": "code",
   "execution_count": 9,
   "metadata": {},
   "outputs": [],
   "source": [
    "from pyspark.sql import functions as F\n",
    "from pyspark.sql.functions import to_timestamp"
   ]
  },
  {
   "cell_type": "code",
   "execution_count": 2,
   "metadata": {},
   "outputs": [],
   "source": [
    "from pyspark.sql import SparkSession\n",
    "\n",
    "spark = SparkSession.builder \\\n",
    "  .appName('Yelp! Data Exploration')\\\n",
    "  .getOrCreate()"
   ]
  },
  {
   "cell_type": "code",
   "execution_count": 3,
   "metadata": {},
   "outputs": [],
   "source": [
    "# Directory where the raw data is stored\n",
    "data_folder = \"gs://ca4022_yelp_data/data_raw/\""
   ]
  },
  {
   "cell_type": "markdown",
   "metadata": {},
   "source": [
    "# Processing"
   ]
  },
  {
   "cell_type": "markdown",
   "metadata": {},
   "source": [
    "## Cleaning the Business Table"
   ]
  },
  {
   "cell_type": "code",
   "execution_count": 3,
   "metadata": {},
   "outputs": [],
   "source": [
    "df_bus = spark.read.csv(data_folder + \"business.csv\", header=True, sep= \",\", inferSchema=True)"
   ]
  },
  {
   "cell_type": "markdown",
   "metadata": {},
   "source": [
    "Inspecting the data..."
   ]
  },
  {
   "cell_type": "code",
   "execution_count": 4,
   "metadata": {
    "scrolled": false
   },
   "outputs": [
    {
     "name": "stdout",
     "output_type": "stream",
     "text": [
      "+----------------------+----------------------------+----------------------------+---------------+-----+-----------+-------------+--------------+-----+------------+-------+------------------------------------------------------------------------------------------------+\n",
      "|business_id           |name                        |address                     |city           |state|postal_code|latitude     |longitude     |stars|review_count|is_open|categories                                                                                      |\n",
      "+----------------------+----------------------------+----------------------------+---------------+-----+-----------+-------------+--------------+-----+------------+-------+------------------------------------------------------------------------------------------------+\n",
      "|f9NumwFMBDn751xgFiRbNA|The Range At Lake Norman    |10913 Bailey Rd             |Cornelius      |NC   |28031      |35.4627242   |-80.8526119   |3.5  |36.0        |1.0    |Active Life, Gun/Rifle Ranges, Guns & Ammo, Shopping                                            |\n",
      "|Yzvjg0SayhoZgCljUJRF9Q|Carlos Santo, NMD           |8880 E Via Linda, Ste 107   |Scottsdale     |AZ   |85258      |33.5694041   |-111.8902637  |5.0  |4.0         |1.0    |Health & Medical, Fitness & Instruction, Yoga, Active Life, Pilates                             |\n",
      "|XNoUzKckATkOD1hP6vghZg|Felinus                     |3554 Rue Notre-Dame O       |Montreal       |QC   |H4C 1P4    |45.479984    |-73.58007     |5.0  |5.0         |1.0    |Pets, Pet Services, Pet Groomers                                                                |\n",
      "|6OAZjbxqM5ol29BuHsil3w|Nevada House of Hose        |1015 Sharp Cir              |North Las Vegas|NV   |89030      |36.2197281   |-115.1277255  |2.5  |3.0         |0.0    |Hardware Stores, Home Services, Building Supplies, Home & Garden, Shopping                      |\n",
      "|51M2Kk903DFYI6gnB5I6SQ|USE MY GUY SERVICES LLC     |4827 E Downing Cir          |Mesa           |AZ   |85205      |33.4280652   |-111.7266485  |4.5  |26.0        |1.0    |Home Services, Plumbing, Electricians, Handyman, Contractors                                    |\n",
      "|cKyLV5oWZJ2NudWgqs8VZw|Oasis Auto Center - Gilbert |1720 W Elliot Rd, Ste 105   |Gilbert        |AZ   |85233      |33.3503993   |-111.8271417  |4.5  |38.0        |1.0    |Auto Repair, Automotive, Oil Change Stations, Transmission Repair                               |\n",
      "|oiAlXZPIFm2nBCt0DHLu_Q|Green World Cleaners        |6870 S Rainbow Blvd, Ste 117|Las Vegas      |NV   |89118      |36.0639767   |-115.241463   |3.5  |81.0        |1.0    |Dry Cleaning & Laundry, Local Services, Laundry Services                                        |\n",
      "|ScYkbYNkDgCneBrD9vqhCQ|Junction Tire & Auto Service|6910 E Southern Ave         |Mesa           |AZ   |85209      |33.3938847   |-111.6822257  |5.0  |18.0        |1.0    |Auto Repair, Oil Change Stations, Automotive, Tires                                             |\n",
      "|pQeaRpvuhoEqudo3uymHIQ|The Empanadas House         |404 E Green St              |Champaign      |IL   |61820      |40.1104457   |-88.2330726   |4.5  |5.0         |1.0    |Ethnic Food, Food Trucks, Specialty Food, Imported Food, Argentine, Food, Restaurants, Empanadas|\n",
      "|EosRKXIGeSWFYWwpkbhNnA|Xtreme Couture              |700 Kipling Avenue Etobicoke|Toronto        |ON   |M8Z 5G3    |43.6245394916|-79.5291079302|3.0  |16.0        |1.0    |Martial Arts, Gyms, Fitness & Instruction, Active Life                                          |\n",
      "+----------------------+----------------------------+----------------------------+---------------+-----+-----------+-------------+--------------+-----+------------+-------+------------------------------------------------------------------------------------------------+\n",
      "only showing top 10 rows\n",
      "\n"
     ]
    }
   ],
   "source": [
    "df_bus.show(10, truncate=False)"
   ]
  },
  {
   "cell_type": "markdown",
   "metadata": {},
   "source": [
    "This is not very readable so we employ the toPandas() function available in PySpark to display the Spark DataFrame as a pandas DataFrame"
   ]
  },
  {
   "cell_type": "code",
   "execution_count": 6,
   "metadata": {},
   "outputs": [
    {
     "data": {
      "text/html": [
       "<div>\n",
       "<style scoped>\n",
       "    .dataframe tbody tr th:only-of-type {\n",
       "        vertical-align: middle;\n",
       "    }\n",
       "\n",
       "    .dataframe tbody tr th {\n",
       "        vertical-align: top;\n",
       "    }\n",
       "\n",
       "    .dataframe thead th {\n",
       "        text-align: right;\n",
       "    }\n",
       "</style>\n",
       "<table border=\"1\" class=\"dataframe\">\n",
       "  <thead>\n",
       "    <tr style=\"text-align: right;\">\n",
       "      <th></th>\n",
       "      <th>business_id</th>\n",
       "      <th>name</th>\n",
       "      <th>address</th>\n",
       "      <th>city</th>\n",
       "      <th>state</th>\n",
       "      <th>postal_code</th>\n",
       "      <th>latitude</th>\n",
       "      <th>longitude</th>\n",
       "      <th>stars</th>\n",
       "      <th>review_count</th>\n",
       "      <th>is_open</th>\n",
       "      <th>categories</th>\n",
       "    </tr>\n",
       "  </thead>\n",
       "  <tbody>\n",
       "    <tr>\n",
       "      <th>0</th>\n",
       "      <td>f9NumwFMBDn751xgFiRbNA</td>\n",
       "      <td>The Range At Lake Norman</td>\n",
       "      <td>10913 Bailey Rd</td>\n",
       "      <td>Cornelius</td>\n",
       "      <td>NC</td>\n",
       "      <td>28031</td>\n",
       "      <td>35.4627242</td>\n",
       "      <td>-80.8526119</td>\n",
       "      <td>3.5</td>\n",
       "      <td>36.0</td>\n",
       "      <td>1.0</td>\n",
       "      <td>Active Life, Gun/Rifle Ranges, Guns &amp; Ammo, Sh...</td>\n",
       "    </tr>\n",
       "    <tr>\n",
       "      <th>1</th>\n",
       "      <td>Yzvjg0SayhoZgCljUJRF9Q</td>\n",
       "      <td>Carlos Santo, NMD</td>\n",
       "      <td>8880 E Via Linda, Ste 107</td>\n",
       "      <td>Scottsdale</td>\n",
       "      <td>AZ</td>\n",
       "      <td>85258</td>\n",
       "      <td>33.5694041</td>\n",
       "      <td>-111.8902637</td>\n",
       "      <td>5.0</td>\n",
       "      <td>4.0</td>\n",
       "      <td>1.0</td>\n",
       "      <td>Health &amp; Medical, Fitness &amp; Instruction, Yoga,...</td>\n",
       "    </tr>\n",
       "    <tr>\n",
       "      <th>2</th>\n",
       "      <td>XNoUzKckATkOD1hP6vghZg</td>\n",
       "      <td>Felinus</td>\n",
       "      <td>3554 Rue Notre-Dame O</td>\n",
       "      <td>Montreal</td>\n",
       "      <td>QC</td>\n",
       "      <td>H4C 1P4</td>\n",
       "      <td>45.479984</td>\n",
       "      <td>-73.58007</td>\n",
       "      <td>5.0</td>\n",
       "      <td>5.0</td>\n",
       "      <td>1.0</td>\n",
       "      <td>Pets, Pet Services, Pet Groomers</td>\n",
       "    </tr>\n",
       "    <tr>\n",
       "      <th>3</th>\n",
       "      <td>6OAZjbxqM5ol29BuHsil3w</td>\n",
       "      <td>Nevada House of Hose</td>\n",
       "      <td>1015 Sharp Cir</td>\n",
       "      <td>North Las Vegas</td>\n",
       "      <td>NV</td>\n",
       "      <td>89030</td>\n",
       "      <td>36.2197281</td>\n",
       "      <td>-115.1277255</td>\n",
       "      <td>2.5</td>\n",
       "      <td>3.0</td>\n",
       "      <td>0.0</td>\n",
       "      <td>Hardware Stores, Home Services, Building Suppl...</td>\n",
       "    </tr>\n",
       "    <tr>\n",
       "      <th>4</th>\n",
       "      <td>51M2Kk903DFYI6gnB5I6SQ</td>\n",
       "      <td>USE MY GUY SERVICES LLC</td>\n",
       "      <td>4827 E Downing Cir</td>\n",
       "      <td>Mesa</td>\n",
       "      <td>AZ</td>\n",
       "      <td>85205</td>\n",
       "      <td>33.4280652</td>\n",
       "      <td>-111.7266485</td>\n",
       "      <td>4.5</td>\n",
       "      <td>26.0</td>\n",
       "      <td>1.0</td>\n",
       "      <td>Home Services, Plumbing, Electricians, Handyma...</td>\n",
       "    </tr>\n",
       "    <tr>\n",
       "      <th>5</th>\n",
       "      <td>cKyLV5oWZJ2NudWgqs8VZw</td>\n",
       "      <td>Oasis Auto Center - Gilbert</td>\n",
       "      <td>1720 W Elliot Rd, Ste 105</td>\n",
       "      <td>Gilbert</td>\n",
       "      <td>AZ</td>\n",
       "      <td>85233</td>\n",
       "      <td>33.3503993</td>\n",
       "      <td>-111.8271417</td>\n",
       "      <td>4.5</td>\n",
       "      <td>38.0</td>\n",
       "      <td>1.0</td>\n",
       "      <td>Auto Repair, Automotive, Oil Change Stations, ...</td>\n",
       "    </tr>\n",
       "    <tr>\n",
       "      <th>6</th>\n",
       "      <td>oiAlXZPIFm2nBCt0DHLu_Q</td>\n",
       "      <td>Green World Cleaners</td>\n",
       "      <td>6870 S Rainbow Blvd, Ste 117</td>\n",
       "      <td>Las Vegas</td>\n",
       "      <td>NV</td>\n",
       "      <td>89118</td>\n",
       "      <td>36.0639767</td>\n",
       "      <td>-115.241463</td>\n",
       "      <td>3.5</td>\n",
       "      <td>81.0</td>\n",
       "      <td>1.0</td>\n",
       "      <td>Dry Cleaning &amp; Laundry, Local Services, Laundr...</td>\n",
       "    </tr>\n",
       "    <tr>\n",
       "      <th>7</th>\n",
       "      <td>ScYkbYNkDgCneBrD9vqhCQ</td>\n",
       "      <td>Junction Tire &amp; Auto Service</td>\n",
       "      <td>6910 E Southern Ave</td>\n",
       "      <td>Mesa</td>\n",
       "      <td>AZ</td>\n",
       "      <td>85209</td>\n",
       "      <td>33.3938847</td>\n",
       "      <td>-111.6822257</td>\n",
       "      <td>5.0</td>\n",
       "      <td>18.0</td>\n",
       "      <td>1.0</td>\n",
       "      <td>Auto Repair, Oil Change Stations, Automotive, ...</td>\n",
       "    </tr>\n",
       "    <tr>\n",
       "      <th>8</th>\n",
       "      <td>pQeaRpvuhoEqudo3uymHIQ</td>\n",
       "      <td>The Empanadas House</td>\n",
       "      <td>404 E Green St</td>\n",
       "      <td>Champaign</td>\n",
       "      <td>IL</td>\n",
       "      <td>61820</td>\n",
       "      <td>40.1104457</td>\n",
       "      <td>-88.2330726</td>\n",
       "      <td>4.5</td>\n",
       "      <td>5.0</td>\n",
       "      <td>1.0</td>\n",
       "      <td>Ethnic Food, Food Trucks, Specialty Food, Impo...</td>\n",
       "    </tr>\n",
       "    <tr>\n",
       "      <th>9</th>\n",
       "      <td>EosRKXIGeSWFYWwpkbhNnA</td>\n",
       "      <td>Xtreme Couture</td>\n",
       "      <td>700 Kipling Avenue Etobicoke</td>\n",
       "      <td>Toronto</td>\n",
       "      <td>ON</td>\n",
       "      <td>M8Z 5G3</td>\n",
       "      <td>43.6245394916</td>\n",
       "      <td>-79.5291079302</td>\n",
       "      <td>3.0</td>\n",
       "      <td>16.0</td>\n",
       "      <td>1.0</td>\n",
       "      <td>Martial Arts, Gyms, Fitness &amp; Instruction, Act...</td>\n",
       "    </tr>\n",
       "  </tbody>\n",
       "</table>\n",
       "</div>"
      ],
      "text/plain": [
       "              business_id                          name  \\\n",
       "0  f9NumwFMBDn751xgFiRbNA      The Range At Lake Norman   \n",
       "1  Yzvjg0SayhoZgCljUJRF9Q             Carlos Santo, NMD   \n",
       "2  XNoUzKckATkOD1hP6vghZg                       Felinus   \n",
       "3  6OAZjbxqM5ol29BuHsil3w          Nevada House of Hose   \n",
       "4  51M2Kk903DFYI6gnB5I6SQ       USE MY GUY SERVICES LLC   \n",
       "5  cKyLV5oWZJ2NudWgqs8VZw   Oasis Auto Center - Gilbert   \n",
       "6  oiAlXZPIFm2nBCt0DHLu_Q          Green World Cleaners   \n",
       "7  ScYkbYNkDgCneBrD9vqhCQ  Junction Tire & Auto Service   \n",
       "8  pQeaRpvuhoEqudo3uymHIQ           The Empanadas House   \n",
       "9  EosRKXIGeSWFYWwpkbhNnA                Xtreme Couture   \n",
       "\n",
       "                        address             city state postal_code  \\\n",
       "0               10913 Bailey Rd        Cornelius    NC       28031   \n",
       "1     8880 E Via Linda, Ste 107       Scottsdale    AZ       85258   \n",
       "2         3554 Rue Notre-Dame O         Montreal    QC     H4C 1P4   \n",
       "3                1015 Sharp Cir  North Las Vegas    NV       89030   \n",
       "4            4827 E Downing Cir             Mesa    AZ       85205   \n",
       "5     1720 W Elliot Rd, Ste 105          Gilbert    AZ       85233   \n",
       "6  6870 S Rainbow Blvd, Ste 117        Las Vegas    NV       89118   \n",
       "7           6910 E Southern Ave             Mesa    AZ       85209   \n",
       "8                404 E Green St        Champaign    IL       61820   \n",
       "9  700 Kipling Avenue Etobicoke          Toronto    ON     M8Z 5G3   \n",
       "\n",
       "        latitude       longitude stars  review_count  is_open  \\\n",
       "0     35.4627242     -80.8526119   3.5          36.0      1.0   \n",
       "1     33.5694041    -111.8902637   5.0           4.0      1.0   \n",
       "2      45.479984       -73.58007   5.0           5.0      1.0   \n",
       "3     36.2197281    -115.1277255   2.5           3.0      0.0   \n",
       "4     33.4280652    -111.7266485   4.5          26.0      1.0   \n",
       "5     33.3503993    -111.8271417   4.5          38.0      1.0   \n",
       "6     36.0639767     -115.241463   3.5          81.0      1.0   \n",
       "7     33.3938847    -111.6822257   5.0          18.0      1.0   \n",
       "8     40.1104457     -88.2330726   4.5           5.0      1.0   \n",
       "9  43.6245394916  -79.5291079302   3.0          16.0      1.0   \n",
       "\n",
       "                                          categories  \n",
       "0  Active Life, Gun/Rifle Ranges, Guns & Ammo, Sh...  \n",
       "1  Health & Medical, Fitness & Instruction, Yoga,...  \n",
       "2                   Pets, Pet Services, Pet Groomers  \n",
       "3  Hardware Stores, Home Services, Building Suppl...  \n",
       "4  Home Services, Plumbing, Electricians, Handyma...  \n",
       "5  Auto Repair, Automotive, Oil Change Stations, ...  \n",
       "6  Dry Cleaning & Laundry, Local Services, Laundr...  \n",
       "7  Auto Repair, Oil Change Stations, Automotive, ...  \n",
       "8  Ethnic Food, Food Trucks, Specialty Food, Impo...  \n",
       "9  Martial Arts, Gyms, Fitness & Instruction, Act...  "
      ]
     },
     "execution_count": 6,
     "metadata": {},
     "output_type": "execute_result"
    }
   ],
   "source": [
    "df_bus.limit(10).toPandas()"
   ]
  },
  {
   "cell_type": "markdown",
   "metadata": {},
   "source": [
    "By quickly looking at a small sample of the data, we can see that it appears relatively clean but more analysis is needed to confirm this. Let's check the schema of the data..."
   ]
  },
  {
   "cell_type": "code",
   "execution_count": 7,
   "metadata": {},
   "outputs": [
    {
     "name": "stdout",
     "output_type": "stream",
     "text": [
      "root\n",
      " |-- business_id: string (nullable = true)\n",
      " |-- name: string (nullable = true)\n",
      " |-- address: string (nullable = true)\n",
      " |-- city: string (nullable = true)\n",
      " |-- state: string (nullable = true)\n",
      " |-- postal_code: string (nullable = true)\n",
      " |-- latitude: string (nullable = true)\n",
      " |-- longitude: string (nullable = true)\n",
      " |-- stars: string (nullable = true)\n",
      " |-- review_count: double (nullable = true)\n",
      " |-- is_open: double (nullable = true)\n",
      " |-- categories: string (nullable = true)\n",
      "\n"
     ]
    }
   ],
   "source": [
    "df_bus.printSchema()"
   ]
  },
  {
   "cell_type": "markdown",
   "metadata": {},
   "source": [
    "We can see from the schema that most of the columns are strings and the majority of these are fine but arguably, the lat, long and average star rating should be doubles."
   ]
  },
  {
   "cell_type": "code",
   "execution_count": 8,
   "metadata": {},
   "outputs": [
    {
     "data": {
      "text/plain": [
       "209393"
      ]
     },
     "execution_count": 8,
     "metadata": {},
     "output_type": "execute_result"
    }
   ],
   "source": [
    "# How many rows are in the business table?\n",
    "df_bus.count()"
   ]
  },
  {
   "cell_type": "markdown",
   "metadata": {},
   "source": [
    "To determine if we can convert the data in these columns to doubles, we must test how many non-null values are present when we cast the data in each of the columns to double."
   ]
  },
  {
   "cell_type": "code",
   "execution_count": 10,
   "metadata": {},
   "outputs": [
    {
     "name": "stdout",
     "output_type": "stream",
     "text": [
      "Latitude:  209391\n",
      "Longitude:  209392\n",
      "Stars:  209392\n"
     ]
    }
   ],
   "source": [
    "# Determine how many rows in each column convert properly?\n",
    "print(\"Latitude: \", df_bus.filter(F.col(\"latitude\").cast(\"double\").isNotNull()).count())\n",
    "print(\"Longitude: \", df_bus.filter(F.col(\"longitude\").cast(\"double\").isNotNull()).count())\n",
    "print(\"Stars: \", df_bus.filter(F.col(\"stars\").cast(\"double\").isNotNull()).count())"
   ]
  },
  {
   "cell_type": "markdown",
   "metadata": {},
   "source": [
    "So there are a very small number of rows which don't convert properly, let's examine these..."
   ]
  },
  {
   "cell_type": "code",
   "execution_count": 12,
   "metadata": {},
   "outputs": [
    {
     "data": {
      "text/html": [
       "<div>\n",
       "<style scoped>\n",
       "    .dataframe tbody tr th:only-of-type {\n",
       "        vertical-align: middle;\n",
       "    }\n",
       "\n",
       "    .dataframe tbody tr th {\n",
       "        vertical-align: top;\n",
       "    }\n",
       "\n",
       "    .dataframe thead th {\n",
       "        text-align: right;\n",
       "    }\n",
       "</style>\n",
       "<table border=\"1\" class=\"dataframe\">\n",
       "  <thead>\n",
       "    <tr style=\"text-align: right;\">\n",
       "      <th></th>\n",
       "      <th>business_id</th>\n",
       "      <th>name</th>\n",
       "      <th>address</th>\n",
       "      <th>city</th>\n",
       "      <th>state</th>\n",
       "      <th>postal_code</th>\n",
       "      <th>latitude</th>\n",
       "      <th>longitude</th>\n",
       "      <th>stars</th>\n",
       "      <th>review_count</th>\n",
       "      <th>is_open</th>\n",
       "      <th>categories</th>\n",
       "    </tr>\n",
       "  </thead>\n",
       "  <tbody>\n",
       "    <tr>\n",
       "      <th>0</th>\n",
       "      <td>wUKqPYvtBwrNk-QHgPtaxg</td>\n",
       "      <td>McDonald's</td>\n",
       "      <td>\"30 Brisdale Rd, Bldg \"\"C\"\"</td>\n",
       "      <td>Building C\"</td>\n",
       "      <td>Brampton</td>\n",
       "      <td>ON</td>\n",
       "      <td>L7A 3G1</td>\n",
       "      <td>43.6821784</td>\n",
       "      <td>-79.8138718</td>\n",
       "      <td>3.0</td>\n",
       "      <td>8.00000</td>\n",
       "      <td>1</td>\n",
       "    </tr>\n",
       "    <tr>\n",
       "      <th>1</th>\n",
       "      <td>P132nWdSsbJn5UyOwm9uAg</td>\n",
       "      <td>\"Arash Giancarlo \"\"Gianni\"\" Vishteh</td>\n",
       "      <td>MD</td>\n",
       "      <td>PC</td>\n",
       "      <td>FACS</td>\n",
       "      <td>FAANS\"</td>\n",
       "      <td>18404 N Tatum Blvd, Unit 205</td>\n",
       "      <td>Phoenix</td>\n",
       "      <td>AZ</td>\n",
       "      <td>85032.0</td>\n",
       "      <td>33.65407</td>\n",
       "      <td>-111.9784252</td>\n",
       "    </tr>\n",
       "  </tbody>\n",
       "</table>\n",
       "</div>"
      ],
      "text/plain": [
       "              business_id                                 name  \\\n",
       "0  wUKqPYvtBwrNk-QHgPtaxg                           McDonald's   \n",
       "1  P132nWdSsbJn5UyOwm9uAg  \"Arash Giancarlo \"\"Gianni\"\" Vishteh   \n",
       "\n",
       "                       address          city     state postal_code  \\\n",
       "0  \"30 Brisdale Rd, Bldg \"\"C\"\"   Building C\"  Brampton          ON   \n",
       "1                           MD            PC      FACS      FAANS\"   \n",
       "\n",
       "                       latitude   longitude        stars  review_count  \\\n",
       "0                       L7A 3G1  43.6821784  -79.8138718           3.0   \n",
       "1  18404 N Tatum Blvd, Unit 205     Phoenix           AZ       85032.0   \n",
       "\n",
       "    is_open    categories  \n",
       "0   8.00000             1  \n",
       "1  33.65407  -111.9784252  "
      ]
     },
     "execution_count": 12,
     "metadata": {},
     "output_type": "execute_result"
    }
   ],
   "source": [
    "df_bus.filter(F.col(\"latitude\").cast(\"double\").isNull()).toPandas()"
   ]
  },
  {
   "cell_type": "code",
   "execution_count": 13,
   "metadata": {},
   "outputs": [
    {
     "data": {
      "text/html": [
       "<div>\n",
       "<style scoped>\n",
       "    .dataframe tbody tr th:only-of-type {\n",
       "        vertical-align: middle;\n",
       "    }\n",
       "\n",
       "    .dataframe tbody tr th {\n",
       "        vertical-align: top;\n",
       "    }\n",
       "\n",
       "    .dataframe thead th {\n",
       "        text-align: right;\n",
       "    }\n",
       "</style>\n",
       "<table border=\"1\" class=\"dataframe\">\n",
       "  <thead>\n",
       "    <tr style=\"text-align: right;\">\n",
       "      <th></th>\n",
       "      <th>business_id</th>\n",
       "      <th>name</th>\n",
       "      <th>address</th>\n",
       "      <th>city</th>\n",
       "      <th>state</th>\n",
       "      <th>postal_code</th>\n",
       "      <th>latitude</th>\n",
       "      <th>longitude</th>\n",
       "      <th>stars</th>\n",
       "      <th>review_count</th>\n",
       "      <th>is_open</th>\n",
       "      <th>categories</th>\n",
       "    </tr>\n",
       "  </thead>\n",
       "  <tbody>\n",
       "    <tr>\n",
       "      <th>0</th>\n",
       "      <td>P132nWdSsbJn5UyOwm9uAg</td>\n",
       "      <td>\"Arash Giancarlo \"\"Gianni\"\" Vishteh</td>\n",
       "      <td>MD</td>\n",
       "      <td>PC</td>\n",
       "      <td>FACS</td>\n",
       "      <td>FAANS\"</td>\n",
       "      <td>18404 N Tatum Blvd, Unit 205</td>\n",
       "      <td>Phoenix</td>\n",
       "      <td>AZ</td>\n",
       "      <td>85032.0</td>\n",
       "      <td>33.65407</td>\n",
       "      <td>-111.9784252</td>\n",
       "    </tr>\n",
       "  </tbody>\n",
       "</table>\n",
       "</div>"
      ],
      "text/plain": [
       "              business_id                                 name address city  \\\n",
       "0  P132nWdSsbJn5UyOwm9uAg  \"Arash Giancarlo \"\"Gianni\"\" Vishteh      MD   PC   \n",
       "\n",
       "   state postal_code                      latitude longitude stars  \\\n",
       "0   FACS      FAANS\"  18404 N Tatum Blvd, Unit 205   Phoenix    AZ   \n",
       "\n",
       "   review_count   is_open    categories  \n",
       "0       85032.0  33.65407  -111.9784252  "
      ]
     },
     "execution_count": 13,
     "metadata": {},
     "output_type": "execute_result"
    }
   ],
   "source": [
    "df_bus.filter(F.col(\"longitude\").cast(\"double\").isNull()).toPandas()"
   ]
  },
  {
   "cell_type": "markdown",
   "metadata": {},
   "source": [
    "Same record as above"
   ]
  },
  {
   "cell_type": "code",
   "execution_count": 14,
   "metadata": {},
   "outputs": [
    {
     "data": {
      "text/html": [
       "<div>\n",
       "<style scoped>\n",
       "    .dataframe tbody tr th:only-of-type {\n",
       "        vertical-align: middle;\n",
       "    }\n",
       "\n",
       "    .dataframe tbody tr th {\n",
       "        vertical-align: top;\n",
       "    }\n",
       "\n",
       "    .dataframe thead th {\n",
       "        text-align: right;\n",
       "    }\n",
       "</style>\n",
       "<table border=\"1\" class=\"dataframe\">\n",
       "  <thead>\n",
       "    <tr style=\"text-align: right;\">\n",
       "      <th></th>\n",
       "      <th>business_id</th>\n",
       "      <th>name</th>\n",
       "      <th>address</th>\n",
       "      <th>city</th>\n",
       "      <th>state</th>\n",
       "      <th>postal_code</th>\n",
       "      <th>latitude</th>\n",
       "      <th>longitude</th>\n",
       "      <th>stars</th>\n",
       "      <th>review_count</th>\n",
       "      <th>is_open</th>\n",
       "      <th>categories</th>\n",
       "    </tr>\n",
       "  </thead>\n",
       "  <tbody>\n",
       "    <tr>\n",
       "      <th>0</th>\n",
       "      <td>P132nWdSsbJn5UyOwm9uAg</td>\n",
       "      <td>\"Arash Giancarlo \"\"Gianni\"\" Vishteh</td>\n",
       "      <td>MD</td>\n",
       "      <td>PC</td>\n",
       "      <td>FACS</td>\n",
       "      <td>FAANS\"</td>\n",
       "      <td>18404 N Tatum Blvd, Unit 205</td>\n",
       "      <td>Phoenix</td>\n",
       "      <td>AZ</td>\n",
       "      <td>85032.0</td>\n",
       "      <td>33.65407</td>\n",
       "      <td>-111.9784252</td>\n",
       "    </tr>\n",
       "  </tbody>\n",
       "</table>\n",
       "</div>"
      ],
      "text/plain": [
       "              business_id                                 name address city  \\\n",
       "0  P132nWdSsbJn5UyOwm9uAg  \"Arash Giancarlo \"\"Gianni\"\" Vishteh      MD   PC   \n",
       "\n",
       "   state postal_code                      latitude longitude stars  \\\n",
       "0   FACS      FAANS\"  18404 N Tatum Blvd, Unit 205   Phoenix    AZ   \n",
       "\n",
       "   review_count   is_open    categories  \n",
       "0       85032.0  33.65407  -111.9784252  "
      ]
     },
     "execution_count": 14,
     "metadata": {},
     "output_type": "execute_result"
    }
   ],
   "source": [
    "df_bus.filter(F.col(\"stars\").cast(\"double\").isNull()).toPandas()"
   ]
  },
  {
   "cell_type": "markdown",
   "metadata": {},
   "source": [
    "So, we will filter out both of these rows..."
   ]
  },
  {
   "cell_type": "code",
   "execution_count": 15,
   "metadata": {},
   "outputs": [],
   "source": [
    "df_bus = df_bus.filter(F.col(\"latitude\").cast(\"double\").isNotNull())"
   ]
  },
  {
   "cell_type": "code",
   "execution_count": 17,
   "metadata": {},
   "outputs": [
    {
     "data": {
      "text/plain": [
       "209391"
      ]
     },
     "execution_count": 17,
     "metadata": {},
     "output_type": "execute_result"
    }
   ],
   "source": [
    "df_bus.count()"
   ]
  },
  {
   "cell_type": "markdown",
   "metadata": {},
   "source": [
    "Now, we can change the type of each column to double.."
   ]
  },
  {
   "cell_type": "code",
   "execution_count": 18,
   "metadata": {},
   "outputs": [],
   "source": [
    "from pyspark.sql.types import DoubleType\n",
    "\n",
    "df_bus = df_bus.withColumn(\"latitude\", df_bus[\"latitude\"].cast(\"double\"))\n",
    "df_bus = df_bus.withColumn(\"longitude\", df_bus[\"longitude\"].cast(\"double\"))\n",
    "df_bus = df_bus.withColumn(\"stars\", df_bus[\"stars\"].cast(\"double\"))"
   ]
  },
  {
   "cell_type": "code",
   "execution_count": 20,
   "metadata": {},
   "outputs": [
    {
     "name": "stdout",
     "output_type": "stream",
     "text": [
      "root\n",
      " |-- business_id: string (nullable = true)\n",
      " |-- name: string (nullable = true)\n",
      " |-- address: string (nullable = true)\n",
      " |-- city: string (nullable = true)\n",
      " |-- state: string (nullable = true)\n",
      " |-- postal_code: string (nullable = true)\n",
      " |-- latitude: double (nullable = true)\n",
      " |-- longitude: double (nullable = true)\n",
      " |-- stars: double (nullable = true)\n",
      " |-- review_count: double (nullable = true)\n",
      " |-- is_open: double (nullable = true)\n",
      " |-- categories: string (nullable = true)\n",
      "\n"
     ]
    }
   ],
   "source": [
    "df_bus.printSchema()"
   ]
  },
  {
   "cell_type": "code",
   "execution_count": 24,
   "metadata": {},
   "outputs": [
    {
     "data": {
      "text/plain": [
       "209391"
      ]
     },
     "execution_count": 24,
     "metadata": {},
     "output_type": "execute_result"
    }
   ],
   "source": [
    "df_bus.count()"
   ]
  },
  {
   "cell_type": "code",
   "execution_count": 28,
   "metadata": {},
   "outputs": [],
   "source": [
    "# Writing the cleaned business DataFrame to our cloud storage bucket\n",
    "df_bus.write.option(\"header\", \"true\").option(\"sep\", \",\").mode(\"overwrite\").csv(\"gs://ca4022_yelp_data/data_clean/business.csv\")"
   ]
  },
  {
   "cell_type": "code",
   "execution_count": 29,
   "metadata": {},
   "outputs": [],
   "source": [
    "df = spark.read.csv(\"gs://ca4022_yelp_data/data_clean/business.csv\", header=True, sep= \",\", inferSchema=True)"
   ]
  },
  {
   "cell_type": "code",
   "execution_count": 30,
   "metadata": {
    "scrolled": true
   },
   "outputs": [
    {
     "data": {
      "text/html": [
       "<div>\n",
       "<style scoped>\n",
       "    .dataframe tbody tr th:only-of-type {\n",
       "        vertical-align: middle;\n",
       "    }\n",
       "\n",
       "    .dataframe tbody tr th {\n",
       "        vertical-align: top;\n",
       "    }\n",
       "\n",
       "    .dataframe thead th {\n",
       "        text-align: right;\n",
       "    }\n",
       "</style>\n",
       "<table border=\"1\" class=\"dataframe\">\n",
       "  <thead>\n",
       "    <tr style=\"text-align: right;\">\n",
       "      <th></th>\n",
       "      <th>business_id</th>\n",
       "      <th>name</th>\n",
       "      <th>address</th>\n",
       "      <th>city</th>\n",
       "      <th>state</th>\n",
       "      <th>postal_code</th>\n",
       "      <th>latitude</th>\n",
       "      <th>longitude</th>\n",
       "      <th>stars</th>\n",
       "      <th>review_count</th>\n",
       "      <th>is_open</th>\n",
       "      <th>categories</th>\n",
       "    </tr>\n",
       "  </thead>\n",
       "  <tbody>\n",
       "    <tr>\n",
       "      <th>0</th>\n",
       "      <td>f9NumwFMBDn751xgFiRbNA</td>\n",
       "      <td>The Range At Lake Norman</td>\n",
       "      <td>10913 Bailey Rd</td>\n",
       "      <td>Cornelius</td>\n",
       "      <td>NC</td>\n",
       "      <td>28031</td>\n",
       "      <td>35.462724</td>\n",
       "      <td>-80.852612</td>\n",
       "      <td>3.5</td>\n",
       "      <td>36.0</td>\n",
       "      <td>1.0</td>\n",
       "      <td>Active Life, Gun/Rifle Ranges, Guns &amp; Ammo, Sh...</td>\n",
       "    </tr>\n",
       "    <tr>\n",
       "      <th>1</th>\n",
       "      <td>Yzvjg0SayhoZgCljUJRF9Q</td>\n",
       "      <td>Carlos Santo, NMD</td>\n",
       "      <td>8880 E Via Linda, Ste 107</td>\n",
       "      <td>Scottsdale</td>\n",
       "      <td>AZ</td>\n",
       "      <td>85258</td>\n",
       "      <td>33.569404</td>\n",
       "      <td>-111.890264</td>\n",
       "      <td>5.0</td>\n",
       "      <td>4.0</td>\n",
       "      <td>1.0</td>\n",
       "      <td>Health &amp; Medical, Fitness &amp; Instruction, Yoga,...</td>\n",
       "    </tr>\n",
       "    <tr>\n",
       "      <th>2</th>\n",
       "      <td>XNoUzKckATkOD1hP6vghZg</td>\n",
       "      <td>Felinus</td>\n",
       "      <td>3554 Rue Notre-Dame O</td>\n",
       "      <td>Montreal</td>\n",
       "      <td>QC</td>\n",
       "      <td>H4C 1P4</td>\n",
       "      <td>45.479984</td>\n",
       "      <td>-73.580070</td>\n",
       "      <td>5.0</td>\n",
       "      <td>5.0</td>\n",
       "      <td>1.0</td>\n",
       "      <td>Pets, Pet Services, Pet Groomers</td>\n",
       "    </tr>\n",
       "    <tr>\n",
       "      <th>3</th>\n",
       "      <td>6OAZjbxqM5ol29BuHsil3w</td>\n",
       "      <td>Nevada House of Hose</td>\n",
       "      <td>1015 Sharp Cir</td>\n",
       "      <td>North Las Vegas</td>\n",
       "      <td>NV</td>\n",
       "      <td>89030</td>\n",
       "      <td>36.219728</td>\n",
       "      <td>-115.127725</td>\n",
       "      <td>2.5</td>\n",
       "      <td>3.0</td>\n",
       "      <td>0.0</td>\n",
       "      <td>Hardware Stores, Home Services, Building Suppl...</td>\n",
       "    </tr>\n",
       "    <tr>\n",
       "      <th>4</th>\n",
       "      <td>51M2Kk903DFYI6gnB5I6SQ</td>\n",
       "      <td>USE MY GUY SERVICES LLC</td>\n",
       "      <td>4827 E Downing Cir</td>\n",
       "      <td>Mesa</td>\n",
       "      <td>AZ</td>\n",
       "      <td>85205</td>\n",
       "      <td>33.428065</td>\n",
       "      <td>-111.726648</td>\n",
       "      <td>4.5</td>\n",
       "      <td>26.0</td>\n",
       "      <td>1.0</td>\n",
       "      <td>Home Services, Plumbing, Electricians, Handyma...</td>\n",
       "    </tr>\n",
       "    <tr>\n",
       "      <th>5</th>\n",
       "      <td>cKyLV5oWZJ2NudWgqs8VZw</td>\n",
       "      <td>Oasis Auto Center - Gilbert</td>\n",
       "      <td>1720 W Elliot Rd, Ste 105</td>\n",
       "      <td>Gilbert</td>\n",
       "      <td>AZ</td>\n",
       "      <td>85233</td>\n",
       "      <td>33.350399</td>\n",
       "      <td>-111.827142</td>\n",
       "      <td>4.5</td>\n",
       "      <td>38.0</td>\n",
       "      <td>1.0</td>\n",
       "      <td>Auto Repair, Automotive, Oil Change Stations, ...</td>\n",
       "    </tr>\n",
       "    <tr>\n",
       "      <th>6</th>\n",
       "      <td>oiAlXZPIFm2nBCt0DHLu_Q</td>\n",
       "      <td>Green World Cleaners</td>\n",
       "      <td>6870 S Rainbow Blvd, Ste 117</td>\n",
       "      <td>Las Vegas</td>\n",
       "      <td>NV</td>\n",
       "      <td>89118</td>\n",
       "      <td>36.063977</td>\n",
       "      <td>-115.241463</td>\n",
       "      <td>3.5</td>\n",
       "      <td>81.0</td>\n",
       "      <td>1.0</td>\n",
       "      <td>Dry Cleaning &amp; Laundry, Local Services, Laundr...</td>\n",
       "    </tr>\n",
       "    <tr>\n",
       "      <th>7</th>\n",
       "      <td>ScYkbYNkDgCneBrD9vqhCQ</td>\n",
       "      <td>Junction Tire &amp; Auto Service</td>\n",
       "      <td>6910 E Southern Ave</td>\n",
       "      <td>Mesa</td>\n",
       "      <td>AZ</td>\n",
       "      <td>85209</td>\n",
       "      <td>33.393885</td>\n",
       "      <td>-111.682226</td>\n",
       "      <td>5.0</td>\n",
       "      <td>18.0</td>\n",
       "      <td>1.0</td>\n",
       "      <td>Auto Repair, Oil Change Stations, Automotive, ...</td>\n",
       "    </tr>\n",
       "    <tr>\n",
       "      <th>8</th>\n",
       "      <td>pQeaRpvuhoEqudo3uymHIQ</td>\n",
       "      <td>The Empanadas House</td>\n",
       "      <td>404 E Green St</td>\n",
       "      <td>Champaign</td>\n",
       "      <td>IL</td>\n",
       "      <td>61820</td>\n",
       "      <td>40.110446</td>\n",
       "      <td>-88.233073</td>\n",
       "      <td>4.5</td>\n",
       "      <td>5.0</td>\n",
       "      <td>1.0</td>\n",
       "      <td>Ethnic Food, Food Trucks, Specialty Food, Impo...</td>\n",
       "    </tr>\n",
       "    <tr>\n",
       "      <th>9</th>\n",
       "      <td>EosRKXIGeSWFYWwpkbhNnA</td>\n",
       "      <td>Xtreme Couture</td>\n",
       "      <td>700 Kipling Avenue Etobicoke</td>\n",
       "      <td>Toronto</td>\n",
       "      <td>ON</td>\n",
       "      <td>M8Z 5G3</td>\n",
       "      <td>43.624539</td>\n",
       "      <td>-79.529108</td>\n",
       "      <td>3.0</td>\n",
       "      <td>16.0</td>\n",
       "      <td>1.0</td>\n",
       "      <td>Martial Arts, Gyms, Fitness &amp; Instruction, Act...</td>\n",
       "    </tr>\n",
       "  </tbody>\n",
       "</table>\n",
       "</div>"
      ],
      "text/plain": [
       "              business_id                          name  \\\n",
       "0  f9NumwFMBDn751xgFiRbNA      The Range At Lake Norman   \n",
       "1  Yzvjg0SayhoZgCljUJRF9Q             Carlos Santo, NMD   \n",
       "2  XNoUzKckATkOD1hP6vghZg                       Felinus   \n",
       "3  6OAZjbxqM5ol29BuHsil3w          Nevada House of Hose   \n",
       "4  51M2Kk903DFYI6gnB5I6SQ       USE MY GUY SERVICES LLC   \n",
       "5  cKyLV5oWZJ2NudWgqs8VZw   Oasis Auto Center - Gilbert   \n",
       "6  oiAlXZPIFm2nBCt0DHLu_Q          Green World Cleaners   \n",
       "7  ScYkbYNkDgCneBrD9vqhCQ  Junction Tire & Auto Service   \n",
       "8  pQeaRpvuhoEqudo3uymHIQ           The Empanadas House   \n",
       "9  EosRKXIGeSWFYWwpkbhNnA                Xtreme Couture   \n",
       "\n",
       "                        address             city state postal_code   latitude  \\\n",
       "0               10913 Bailey Rd        Cornelius    NC       28031  35.462724   \n",
       "1     8880 E Via Linda, Ste 107       Scottsdale    AZ       85258  33.569404   \n",
       "2         3554 Rue Notre-Dame O         Montreal    QC     H4C 1P4  45.479984   \n",
       "3                1015 Sharp Cir  North Las Vegas    NV       89030  36.219728   \n",
       "4            4827 E Downing Cir             Mesa    AZ       85205  33.428065   \n",
       "5     1720 W Elliot Rd, Ste 105          Gilbert    AZ       85233  33.350399   \n",
       "6  6870 S Rainbow Blvd, Ste 117        Las Vegas    NV       89118  36.063977   \n",
       "7           6910 E Southern Ave             Mesa    AZ       85209  33.393885   \n",
       "8                404 E Green St        Champaign    IL       61820  40.110446   \n",
       "9  700 Kipling Avenue Etobicoke          Toronto    ON     M8Z 5G3  43.624539   \n",
       "\n",
       "    longitude  stars  review_count  is_open  \\\n",
       "0  -80.852612    3.5          36.0      1.0   \n",
       "1 -111.890264    5.0           4.0      1.0   \n",
       "2  -73.580070    5.0           5.0      1.0   \n",
       "3 -115.127725    2.5           3.0      0.0   \n",
       "4 -111.726648    4.5          26.0      1.0   \n",
       "5 -111.827142    4.5          38.0      1.0   \n",
       "6 -115.241463    3.5          81.0      1.0   \n",
       "7 -111.682226    5.0          18.0      1.0   \n",
       "8  -88.233073    4.5           5.0      1.0   \n",
       "9  -79.529108    3.0          16.0      1.0   \n",
       "\n",
       "                                          categories  \n",
       "0  Active Life, Gun/Rifle Ranges, Guns & Ammo, Sh...  \n",
       "1  Health & Medical, Fitness & Instruction, Yoga,...  \n",
       "2                   Pets, Pet Services, Pet Groomers  \n",
       "3  Hardware Stores, Home Services, Building Suppl...  \n",
       "4  Home Services, Plumbing, Electricians, Handyma...  \n",
       "5  Auto Repair, Automotive, Oil Change Stations, ...  \n",
       "6  Dry Cleaning & Laundry, Local Services, Laundr...  \n",
       "7  Auto Repair, Oil Change Stations, Automotive, ...  \n",
       "8  Ethnic Food, Food Trucks, Specialty Food, Impo...  \n",
       "9  Martial Arts, Gyms, Fitness & Instruction, Act...  "
      ]
     },
     "execution_count": 30,
     "metadata": {},
     "output_type": "execute_result"
    }
   ],
   "source": [
    "df.limit(10).toPandas()"
   ]
  },
  {
   "cell_type": "markdown",
   "metadata": {},
   "source": [
    "## Cleaning the Business Hours Table"
   ]
  },
  {
   "cell_type": "markdown",
   "metadata": {},
   "source": [
    "**Note:** Minimal commentary is provided for the remainder of this notebook as a lot of repeated steps are carried out."
   ]
  },
  {
   "cell_type": "code",
   "execution_count": 31,
   "metadata": {},
   "outputs": [],
   "source": [
    "df_bus_hrs = spark.read.csv(data_folder + \"business_hours.csv\", header=True, sep= \",\", inferSchema=True)"
   ]
  },
  {
   "cell_type": "markdown",
   "metadata": {},
   "source": [
    "Inspecting the data..."
   ]
  },
  {
   "cell_type": "code",
   "execution_count": 32,
   "metadata": {},
   "outputs": [
    {
     "data": {
      "text/html": [
       "<div>\n",
       "<style scoped>\n",
       "    .dataframe tbody tr th:only-of-type {\n",
       "        vertical-align: middle;\n",
       "    }\n",
       "\n",
       "    .dataframe tbody tr th {\n",
       "        vertical-align: top;\n",
       "    }\n",
       "\n",
       "    .dataframe thead th {\n",
       "        text-align: right;\n",
       "    }\n",
       "</style>\n",
       "<table border=\"1\" class=\"dataframe\">\n",
       "  <thead>\n",
       "    <tr style=\"text-align: right;\">\n",
       "      <th></th>\n",
       "      <th>business_id</th>\n",
       "      <th>Monday</th>\n",
       "      <th>Tuesday</th>\n",
       "      <th>Wednesday</th>\n",
       "      <th>Thursday</th>\n",
       "      <th>Friday</th>\n",
       "      <th>Saturday</th>\n",
       "      <th>Sunday</th>\n",
       "    </tr>\n",
       "  </thead>\n",
       "  <tbody>\n",
       "    <tr>\n",
       "      <th>0</th>\n",
       "      <td>f9NumwFMBDn751xgFiRbNA</td>\n",
       "      <td>10:0-18:0</td>\n",
       "      <td>11:0-20:0</td>\n",
       "      <td>10:0-18:0</td>\n",
       "      <td>11:0-20:0</td>\n",
       "      <td>11:0-20:0</td>\n",
       "      <td>11:0-20:0</td>\n",
       "      <td>13:0-18:0</td>\n",
       "    </tr>\n",
       "    <tr>\n",
       "      <th>1</th>\n",
       "      <td>6OAZjbxqM5ol29BuHsil3w</td>\n",
       "      <td>7:0-18:0</td>\n",
       "      <td>7:0-18:0</td>\n",
       "      <td>7:0-18:0</td>\n",
       "      <td>7:0-18:0</td>\n",
       "      <td>7:0-18:0</td>\n",
       "      <td>7:0-15:0</td>\n",
       "      <td>None</td>\n",
       "    </tr>\n",
       "    <tr>\n",
       "      <th>2</th>\n",
       "      <td>51M2Kk903DFYI6gnB5I6SQ</td>\n",
       "      <td>7:0-19:0</td>\n",
       "      <td>7:0-19:0</td>\n",
       "      <td>7:0-19:0</td>\n",
       "      <td>7:0-19:0</td>\n",
       "      <td>7:0-19:0</td>\n",
       "      <td>9:0-17:0</td>\n",
       "      <td>None</td>\n",
       "    </tr>\n",
       "    <tr>\n",
       "      <th>3</th>\n",
       "      <td>cKyLV5oWZJ2NudWgqs8VZw</td>\n",
       "      <td>7:30-17:0</td>\n",
       "      <td>7:30-17:0</td>\n",
       "      <td>7:30-17:0</td>\n",
       "      <td>7:30-17:0</td>\n",
       "      <td>7:30-17:0</td>\n",
       "      <td>7:30-13:0</td>\n",
       "      <td>None</td>\n",
       "    </tr>\n",
       "    <tr>\n",
       "      <th>4</th>\n",
       "      <td>oiAlXZPIFm2nBCt0DHLu_Q</td>\n",
       "      <td>11:30-14:30</td>\n",
       "      <td>11:30-14:30</td>\n",
       "      <td>11:30-14:30</td>\n",
       "      <td>11:30-14:30</td>\n",
       "      <td>11:30-14:30</td>\n",
       "      <td>None</td>\n",
       "      <td>None</td>\n",
       "    </tr>\n",
       "    <tr>\n",
       "      <th>5</th>\n",
       "      <td>ScYkbYNkDgCneBrD9vqhCQ</td>\n",
       "      <td>5:30-23:0</td>\n",
       "      <td>5:30-23:0</td>\n",
       "      <td>5:30-23:0</td>\n",
       "      <td>5:30-23:0</td>\n",
       "      <td>5:30-23:0</td>\n",
       "      <td>8:0-19:0</td>\n",
       "      <td>8:0-17:0</td>\n",
       "    </tr>\n",
       "    <tr>\n",
       "      <th>6</th>\n",
       "      <td>pQeaRpvuhoEqudo3uymHIQ</td>\n",
       "      <td>7:0-17:0</td>\n",
       "      <td>7:0-17:0</td>\n",
       "      <td>7:0-17:0</td>\n",
       "      <td>7:0-17:0</td>\n",
       "      <td>7:0-17:0</td>\n",
       "      <td>7:0-17:0</td>\n",
       "      <td>None</td>\n",
       "    </tr>\n",
       "    <tr>\n",
       "      <th>7</th>\n",
       "      <td>EosRKXIGeSWFYWwpkbhNnA</td>\n",
       "      <td>8:0-17:0</td>\n",
       "      <td>8:0-17:0</td>\n",
       "      <td>None</td>\n",
       "      <td>8:0-17:0</td>\n",
       "      <td>8:0-17:0</td>\n",
       "      <td>8:0-17:0</td>\n",
       "      <td>None</td>\n",
       "    </tr>\n",
       "    <tr>\n",
       "      <th>8</th>\n",
       "      <td>MbZMmwo-eL0Jnm_Yb9KJrA</td>\n",
       "      <td>0:0-0:0</td>\n",
       "      <td>11:0-21:0</td>\n",
       "      <td>11:0-21:0</td>\n",
       "      <td>11:0-21:0</td>\n",
       "      <td>11:0-22:0</td>\n",
       "      <td>11:0-22:0</td>\n",
       "      <td>11:0-21:0</td>\n",
       "    </tr>\n",
       "    <tr>\n",
       "      <th>9</th>\n",
       "      <td>7Dv4_HAxsxvadEsT5fxQBg</td>\n",
       "      <td>9:0-16:0</td>\n",
       "      <td>9:0-16:0</td>\n",
       "      <td>9:0-16:0</td>\n",
       "      <td>9:0-16:0</td>\n",
       "      <td>9:0-16:0</td>\n",
       "      <td>None</td>\n",
       "      <td>None</td>\n",
       "    </tr>\n",
       "  </tbody>\n",
       "</table>\n",
       "</div>"
      ],
      "text/plain": [
       "              business_id       Monday      Tuesday    Wednesday     Thursday  \\\n",
       "0  f9NumwFMBDn751xgFiRbNA    10:0-18:0    11:0-20:0    10:0-18:0    11:0-20:0   \n",
       "1  6OAZjbxqM5ol29BuHsil3w     7:0-18:0     7:0-18:0     7:0-18:0     7:0-18:0   \n",
       "2  51M2Kk903DFYI6gnB5I6SQ     7:0-19:0     7:0-19:0     7:0-19:0     7:0-19:0   \n",
       "3  cKyLV5oWZJ2NudWgqs8VZw    7:30-17:0    7:30-17:0    7:30-17:0    7:30-17:0   \n",
       "4  oiAlXZPIFm2nBCt0DHLu_Q  11:30-14:30  11:30-14:30  11:30-14:30  11:30-14:30   \n",
       "5  ScYkbYNkDgCneBrD9vqhCQ    5:30-23:0    5:30-23:0    5:30-23:0    5:30-23:0   \n",
       "6  pQeaRpvuhoEqudo3uymHIQ     7:0-17:0     7:0-17:0     7:0-17:0     7:0-17:0   \n",
       "7  EosRKXIGeSWFYWwpkbhNnA     8:0-17:0     8:0-17:0         None     8:0-17:0   \n",
       "8  MbZMmwo-eL0Jnm_Yb9KJrA      0:0-0:0    11:0-21:0    11:0-21:0    11:0-21:0   \n",
       "9  7Dv4_HAxsxvadEsT5fxQBg     9:0-16:0     9:0-16:0     9:0-16:0     9:0-16:0   \n",
       "\n",
       "        Friday   Saturday     Sunday  \n",
       "0    11:0-20:0  11:0-20:0  13:0-18:0  \n",
       "1     7:0-18:0   7:0-15:0       None  \n",
       "2     7:0-19:0   9:0-17:0       None  \n",
       "3    7:30-17:0  7:30-13:0       None  \n",
       "4  11:30-14:30       None       None  \n",
       "5    5:30-23:0   8:0-19:0   8:0-17:0  \n",
       "6     7:0-17:0   7:0-17:0       None  \n",
       "7     8:0-17:0   8:0-17:0       None  \n",
       "8    11:0-22:0  11:0-22:0  11:0-21:0  \n",
       "9     9:0-16:0       None       None  "
      ]
     },
     "execution_count": 32,
     "metadata": {},
     "output_type": "execute_result"
    }
   ],
   "source": [
    "df_bus_hrs.limit(10).toPandas()"
   ]
  },
  {
   "cell_type": "code",
   "execution_count": 33,
   "metadata": {},
   "outputs": [
    {
     "name": "stdout",
     "output_type": "stream",
     "text": [
      "root\n",
      " |-- business_id: string (nullable = true)\n",
      " |-- Monday: string (nullable = true)\n",
      " |-- Tuesday: string (nullable = true)\n",
      " |-- Wednesday: string (nullable = true)\n",
      " |-- Thursday: string (nullable = true)\n",
      " |-- Friday: string (nullable = true)\n",
      " |-- Saturday: string (nullable = true)\n",
      " |-- Sunday: string (nullable = true)\n",
      "\n"
     ]
    }
   ],
   "source": [
    "df_bus_hrs.printSchema()"
   ]
  },
  {
   "cell_type": "code",
   "execution_count": 34,
   "metadata": {},
   "outputs": [
    {
     "data": {
      "text/plain": [
       "164550"
      ]
     },
     "execution_count": 34,
     "metadata": {},
     "output_type": "execute_result"
    }
   ],
   "source": [
    "# How many rows are in the business hours table?\n",
    "df_bus_hrs.count()"
   ]
  },
  {
   "cell_type": "markdown",
   "metadata": {},
   "source": [
    "So information on the opening hours are not present for every business; only approximately 160k out of about 210k, but this is fine. Write DataFrane to new CSV file in our Cloud Storage Bucket."
   ]
  },
  {
   "cell_type": "code",
   "execution_count": 35,
   "metadata": {},
   "outputs": [],
   "source": [
    "# Writing the cleaned business DataFrame to our cloud storage bucket\n",
    "df_bus_hrs.write.option(\"header\", \"true\").option(\"sep\", \",\").mode(\"overwrite\").csv(\"gs://ca4022_yelp_data/data_clean/business_hours.csv\")"
   ]
  },
  {
   "cell_type": "markdown",
   "metadata": {},
   "source": [
    "# Cleaning the Business Attributes Table"
   ]
  },
  {
   "cell_type": "code",
   "execution_count": 37,
   "metadata": {},
   "outputs": [],
   "source": [
    "df_bus_attr = spark.read.csv(data_folder + \"business_attributes.csv\", header=True, sep= \",\", inferSchema=True)"
   ]
  },
  {
   "cell_type": "markdown",
   "metadata": {},
   "source": [
    "Inspecting the data..."
   ]
  },
  {
   "cell_type": "code",
   "execution_count": 38,
   "metadata": {
    "scrolled": false
   },
   "outputs": [
    {
     "data": {
      "text/html": [
       "<div>\n",
       "<style scoped>\n",
       "    .dataframe tbody tr th:only-of-type {\n",
       "        vertical-align: middle;\n",
       "    }\n",
       "\n",
       "    .dataframe tbody tr th {\n",
       "        vertical-align: top;\n",
       "    }\n",
       "\n",
       "    .dataframe thead th {\n",
       "        text-align: right;\n",
       "    }\n",
       "</style>\n",
       "<table border=\"1\" class=\"dataframe\">\n",
       "  <thead>\n",
       "    <tr style=\"text-align: right;\">\n",
       "      <th></th>\n",
       "      <th>business_id</th>\n",
       "      <th>BusinessAcceptsCreditCards</th>\n",
       "      <th>BikeParking</th>\n",
       "      <th>GoodForKids</th>\n",
       "      <th>BusinessParking</th>\n",
       "      <th>ByAppointmentOnly</th>\n",
       "      <th>RestaurantsPriceRange2</th>\n",
       "      <th>DogsAllowed</th>\n",
       "      <th>WiFi</th>\n",
       "      <th>RestaurantsAttire</th>\n",
       "      <th>...</th>\n",
       "      <th>BestNights</th>\n",
       "      <th>Music</th>\n",
       "      <th>Smoking</th>\n",
       "      <th>DietaryRestrictions</th>\n",
       "      <th>DriveThru</th>\n",
       "      <th>HairSpecializesIn</th>\n",
       "      <th>BYOBCorkage</th>\n",
       "      <th>AgesAllowed</th>\n",
       "      <th>RestaurantsCounterService</th>\n",
       "      <th>Open24Hours</th>\n",
       "    </tr>\n",
       "  </thead>\n",
       "  <tbody>\n",
       "    <tr>\n",
       "      <th>0</th>\n",
       "      <td>f9NumwFMBDn751xgFiRbNA</td>\n",
       "      <td>True</td>\n",
       "      <td>True</td>\n",
       "      <td>False</td>\n",
       "      <td>{'garage': False, 'street': False, 'validated'...</td>\n",
       "      <td>False</td>\n",
       "      <td>3</td>\n",
       "      <td>None</td>\n",
       "      <td>None</td>\n",
       "      <td>None</td>\n",
       "      <td>...</td>\n",
       "      <td>None</td>\n",
       "      <td>None</td>\n",
       "      <td>None</td>\n",
       "      <td>None</td>\n",
       "      <td>None</td>\n",
       "      <td>None</td>\n",
       "      <td>None</td>\n",
       "      <td>None</td>\n",
       "      <td>None</td>\n",
       "      <td>None</td>\n",
       "    </tr>\n",
       "    <tr>\n",
       "      <th>1</th>\n",
       "      <td>Yzvjg0SayhoZgCljUJRF9Q</td>\n",
       "      <td>None</td>\n",
       "      <td>None</td>\n",
       "      <td>True</td>\n",
       "      <td>None</td>\n",
       "      <td>True</td>\n",
       "      <td>None</td>\n",
       "      <td>None</td>\n",
       "      <td>None</td>\n",
       "      <td>None</td>\n",
       "      <td>...</td>\n",
       "      <td>None</td>\n",
       "      <td>None</td>\n",
       "      <td>None</td>\n",
       "      <td>None</td>\n",
       "      <td>None</td>\n",
       "      <td>None</td>\n",
       "      <td>None</td>\n",
       "      <td>None</td>\n",
       "      <td>None</td>\n",
       "      <td>None</td>\n",
       "    </tr>\n",
       "    <tr>\n",
       "      <th>2</th>\n",
       "      <td>6OAZjbxqM5ol29BuHsil3w</td>\n",
       "      <td>True</td>\n",
       "      <td>None</td>\n",
       "      <td>None</td>\n",
       "      <td>None</td>\n",
       "      <td>True</td>\n",
       "      <td>None</td>\n",
       "      <td>None</td>\n",
       "      <td>None</td>\n",
       "      <td>None</td>\n",
       "      <td>...</td>\n",
       "      <td>None</td>\n",
       "      <td>None</td>\n",
       "      <td>None</td>\n",
       "      <td>None</td>\n",
       "      <td>None</td>\n",
       "      <td>None</td>\n",
       "      <td>None</td>\n",
       "      <td>None</td>\n",
       "      <td>None</td>\n",
       "      <td>None</td>\n",
       "    </tr>\n",
       "    <tr>\n",
       "      <th>3</th>\n",
       "      <td>51M2Kk903DFYI6gnB5I6SQ</td>\n",
       "      <td>True</td>\n",
       "      <td>None</td>\n",
       "      <td>None</td>\n",
       "      <td>None</td>\n",
       "      <td>None</td>\n",
       "      <td>None</td>\n",
       "      <td>None</td>\n",
       "      <td>None</td>\n",
       "      <td>None</td>\n",
       "      <td>...</td>\n",
       "      <td>None</td>\n",
       "      <td>None</td>\n",
       "      <td>None</td>\n",
       "      <td>None</td>\n",
       "      <td>None</td>\n",
       "      <td>None</td>\n",
       "      <td>None</td>\n",
       "      <td>None</td>\n",
       "      <td>None</td>\n",
       "      <td>None</td>\n",
       "    </tr>\n",
       "    <tr>\n",
       "      <th>4</th>\n",
       "      <td>cKyLV5oWZJ2NudWgqs8VZw</td>\n",
       "      <td>True</td>\n",
       "      <td>True</td>\n",
       "      <td>None</td>\n",
       "      <td>{'garage': False, 'street': False, 'validated'...</td>\n",
       "      <td>None</td>\n",
       "      <td>1</td>\n",
       "      <td>None</td>\n",
       "      <td>u'no'</td>\n",
       "      <td>None</td>\n",
       "      <td>...</td>\n",
       "      <td>None</td>\n",
       "      <td>None</td>\n",
       "      <td>None</td>\n",
       "      <td>None</td>\n",
       "      <td>None</td>\n",
       "      <td>None</td>\n",
       "      <td>None</td>\n",
       "      <td>None</td>\n",
       "      <td>None</td>\n",
       "      <td>None</td>\n",
       "    </tr>\n",
       "    <tr>\n",
       "      <th>5</th>\n",
       "      <td>oiAlXZPIFm2nBCt0DHLu_Q</td>\n",
       "      <td>True</td>\n",
       "      <td>None</td>\n",
       "      <td>None</td>\n",
       "      <td>None</td>\n",
       "      <td>False</td>\n",
       "      <td>None</td>\n",
       "      <td>None</td>\n",
       "      <td>None</td>\n",
       "      <td>None</td>\n",
       "      <td>...</td>\n",
       "      <td>None</td>\n",
       "      <td>None</td>\n",
       "      <td>None</td>\n",
       "      <td>None</td>\n",
       "      <td>None</td>\n",
       "      <td>None</td>\n",
       "      <td>None</td>\n",
       "      <td>None</td>\n",
       "      <td>None</td>\n",
       "      <td>None</td>\n",
       "    </tr>\n",
       "    <tr>\n",
       "      <th>6</th>\n",
       "      <td>ScYkbYNkDgCneBrD9vqhCQ</td>\n",
       "      <td>True</td>\n",
       "      <td>False</td>\n",
       "      <td>False</td>\n",
       "      <td>None</td>\n",
       "      <td>False</td>\n",
       "      <td>1</td>\n",
       "      <td>None</td>\n",
       "      <td>None</td>\n",
       "      <td>u'casual'</td>\n",
       "      <td>...</td>\n",
       "      <td>None</td>\n",
       "      <td>None</td>\n",
       "      <td>None</td>\n",
       "      <td>None</td>\n",
       "      <td>None</td>\n",
       "      <td>None</td>\n",
       "      <td>None</td>\n",
       "      <td>None</td>\n",
       "      <td>None</td>\n",
       "      <td>None</td>\n",
       "    </tr>\n",
       "    <tr>\n",
       "      <th>7</th>\n",
       "      <td>pQeaRpvuhoEqudo3uymHIQ</td>\n",
       "      <td>None</td>\n",
       "      <td>False</td>\n",
       "      <td>True</td>\n",
       "      <td>{'garage': False, 'street': False, 'validated'...</td>\n",
       "      <td>True</td>\n",
       "      <td>None</td>\n",
       "      <td>None</td>\n",
       "      <td>None</td>\n",
       "      <td>None</td>\n",
       "      <td>...</td>\n",
       "      <td>None</td>\n",
       "      <td>None</td>\n",
       "      <td>None</td>\n",
       "      <td>None</td>\n",
       "      <td>None</td>\n",
       "      <td>None</td>\n",
       "      <td>None</td>\n",
       "      <td>None</td>\n",
       "      <td>None</td>\n",
       "      <td>None</td>\n",
       "    </tr>\n",
       "    <tr>\n",
       "      <th>8</th>\n",
       "      <td>EosRKXIGeSWFYWwpkbhNnA</td>\n",
       "      <td>True</td>\n",
       "      <td>None</td>\n",
       "      <td>None</td>\n",
       "      <td>None</td>\n",
       "      <td>None</td>\n",
       "      <td>None</td>\n",
       "      <td>None</td>\n",
       "      <td>None</td>\n",
       "      <td>None</td>\n",
       "      <td>...</td>\n",
       "      <td>None</td>\n",
       "      <td>None</td>\n",
       "      <td>None</td>\n",
       "      <td>None</td>\n",
       "      <td>None</td>\n",
       "      <td>None</td>\n",
       "      <td>None</td>\n",
       "      <td>None</td>\n",
       "      <td>None</td>\n",
       "      <td>None</td>\n",
       "    </tr>\n",
       "    <tr>\n",
       "      <th>9</th>\n",
       "      <td>7Dv4_HAxsxvadEsT5fxQBg</td>\n",
       "      <td>True</td>\n",
       "      <td>None</td>\n",
       "      <td>None</td>\n",
       "      <td>None</td>\n",
       "      <td>True</td>\n",
       "      <td>None</td>\n",
       "      <td>None</td>\n",
       "      <td>None</td>\n",
       "      <td>None</td>\n",
       "      <td>...</td>\n",
       "      <td>None</td>\n",
       "      <td>None</td>\n",
       "      <td>None</td>\n",
       "      <td>None</td>\n",
       "      <td>None</td>\n",
       "      <td>None</td>\n",
       "      <td>None</td>\n",
       "      <td>None</td>\n",
       "      <td>None</td>\n",
       "      <td>None</td>\n",
       "    </tr>\n",
       "  </tbody>\n",
       "</table>\n",
       "<p>10 rows × 40 columns</p>\n",
       "</div>"
      ],
      "text/plain": [
       "              business_id BusinessAcceptsCreditCards BikeParking GoodForKids  \\\n",
       "0  f9NumwFMBDn751xgFiRbNA                       True        True       False   \n",
       "1  Yzvjg0SayhoZgCljUJRF9Q                       None        None        True   \n",
       "2  6OAZjbxqM5ol29BuHsil3w                       True        None        None   \n",
       "3  51M2Kk903DFYI6gnB5I6SQ                       True        None        None   \n",
       "4  cKyLV5oWZJ2NudWgqs8VZw                       True        True        None   \n",
       "5  oiAlXZPIFm2nBCt0DHLu_Q                       True        None        None   \n",
       "6  ScYkbYNkDgCneBrD9vqhCQ                       True       False       False   \n",
       "7  pQeaRpvuhoEqudo3uymHIQ                       None       False        True   \n",
       "8  EosRKXIGeSWFYWwpkbhNnA                       True        None        None   \n",
       "9  7Dv4_HAxsxvadEsT5fxQBg                       True        None        None   \n",
       "\n",
       "                                     BusinessParking ByAppointmentOnly  \\\n",
       "0  {'garage': False, 'street': False, 'validated'...             False   \n",
       "1                                               None              True   \n",
       "2                                               None              True   \n",
       "3                                               None              None   \n",
       "4  {'garage': False, 'street': False, 'validated'...              None   \n",
       "5                                               None             False   \n",
       "6                                               None             False   \n",
       "7  {'garage': False, 'street': False, 'validated'...              True   \n",
       "8                                               None              None   \n",
       "9                                               None              True   \n",
       "\n",
       "  RestaurantsPriceRange2 DogsAllowed   WiFi RestaurantsAttire  ... BestNights  \\\n",
       "0                      3        None   None              None  ...       None   \n",
       "1                   None        None   None              None  ...       None   \n",
       "2                   None        None   None              None  ...       None   \n",
       "3                   None        None   None              None  ...       None   \n",
       "4                      1        None  u'no'              None  ...       None   \n",
       "5                   None        None   None              None  ...       None   \n",
       "6                      1        None   None         u'casual'  ...       None   \n",
       "7                   None        None   None              None  ...       None   \n",
       "8                   None        None   None              None  ...       None   \n",
       "9                   None        None   None              None  ...       None   \n",
       "\n",
       "  Music Smoking DietaryRestrictions DriveThru HairSpecializesIn BYOBCorkage  \\\n",
       "0  None    None                None      None              None        None   \n",
       "1  None    None                None      None              None        None   \n",
       "2  None    None                None      None              None        None   \n",
       "3  None    None                None      None              None        None   \n",
       "4  None    None                None      None              None        None   \n",
       "5  None    None                None      None              None        None   \n",
       "6  None    None                None      None              None        None   \n",
       "7  None    None                None      None              None        None   \n",
       "8  None    None                None      None              None        None   \n",
       "9  None    None                None      None              None        None   \n",
       "\n",
       "  AgesAllowed RestaurantsCounterService Open24Hours  \n",
       "0        None                      None        None  \n",
       "1        None                      None        None  \n",
       "2        None                      None        None  \n",
       "3        None                      None        None  \n",
       "4        None                      None        None  \n",
       "5        None                      None        None  \n",
       "6        None                      None        None  \n",
       "7        None                      None        None  \n",
       "8        None                      None        None  \n",
       "9        None                      None        None  \n",
       "\n",
       "[10 rows x 40 columns]"
      ]
     },
     "execution_count": 38,
     "metadata": {},
     "output_type": "execute_result"
    }
   ],
   "source": [
    "df_bus_attr.limit(10).toPandas()"
   ]
  },
  {
   "cell_type": "code",
   "execution_count": 41,
   "metadata": {},
   "outputs": [
    {
     "data": {
      "text/plain": [
       "180348"
      ]
     },
     "execution_count": 41,
     "metadata": {},
     "output_type": "execute_result"
    }
   ],
   "source": [
    "# How many rows are in the business table?\n",
    "df_bus_attr.count()"
   ]
  },
  {
   "cell_type": "markdown",
   "metadata": {},
   "source": [
    "By quickly looking at a small sample of the data, we can see that it appears relatively clean but more analysis is needed to confirm this. Let's check the schema of the data..."
   ]
  },
  {
   "cell_type": "code",
   "execution_count": 39,
   "metadata": {
    "scrolled": true
   },
   "outputs": [
    {
     "name": "stdout",
     "output_type": "stream",
     "text": [
      "root\n",
      " |-- business_id: string (nullable = true)\n",
      " |-- BusinessAcceptsCreditCards: string (nullable = true)\n",
      " |-- BikeParking: string (nullable = true)\n",
      " |-- GoodForKids: string (nullable = true)\n",
      " |-- BusinessParking: string (nullable = true)\n",
      " |-- ByAppointmentOnly: string (nullable = true)\n",
      " |-- RestaurantsPriceRange2: string (nullable = true)\n",
      " |-- DogsAllowed: string (nullable = true)\n",
      " |-- WiFi: string (nullable = true)\n",
      " |-- RestaurantsAttire: string (nullable = true)\n",
      " |-- RestaurantsTakeOut: string (nullable = true)\n",
      " |-- NoiseLevel: string (nullable = true)\n",
      " |-- RestaurantsReservations: string (nullable = true)\n",
      " |-- RestaurantsGoodForGroups: string (nullable = true)\n",
      " |-- HasTV: string (nullable = true)\n",
      " |-- Alcohol: string (nullable = true)\n",
      " |-- RestaurantsDelivery: string (nullable = true)\n",
      " |-- OutdoorSeating: string (nullable = true)\n",
      " |-- Caters: string (nullable = true)\n",
      " |-- WheelchairAccessible: string (nullable = true)\n",
      " |-- AcceptsInsurance: string (nullable = true)\n",
      " |-- RestaurantsTableService: string (nullable = true)\n",
      " |-- Ambience: string (nullable = true)\n",
      " |-- GoodForMeal: string (nullable = true)\n",
      " |-- HappyHour: string (nullable = true)\n",
      " |-- BusinessAcceptsBitcoin: string (nullable = true)\n",
      " |-- BYOB: string (nullable = true)\n",
      " |-- Corkage: string (nullable = true)\n",
      " |-- GoodForDancing: string (nullable = true)\n",
      " |-- CoatCheck: string (nullable = true)\n",
      " |-- BestNights: string (nullable = true)\n",
      " |-- Music: string (nullable = true)\n",
      " |-- Smoking: string (nullable = true)\n",
      " |-- DietaryRestrictions: string (nullable = true)\n",
      " |-- DriveThru: string (nullable = true)\n",
      " |-- HairSpecializesIn: string (nullable = true)\n",
      " |-- BYOBCorkage: string (nullable = true)\n",
      " |-- AgesAllowed: string (nullable = true)\n",
      " |-- RestaurantsCounterService: boolean (nullable = true)\n",
      " |-- Open24Hours: boolean (nullable = true)\n",
      "\n"
     ]
    }
   ],
   "source": [
    "df_bus_attr.printSchema()"
   ]
  },
  {
   "cell_type": "code",
   "execution_count": 42,
   "metadata": {
    "scrolled": true
   },
   "outputs": [
    {
     "data": {
      "text/plain": [
       "['business_id',\n",
       " 'BusinessAcceptsCreditCards',\n",
       " 'BikeParking',\n",
       " 'GoodForKids',\n",
       " 'BusinessParking',\n",
       " 'ByAppointmentOnly',\n",
       " 'RestaurantsPriceRange2',\n",
       " 'DogsAllowed',\n",
       " 'WiFi',\n",
       " 'RestaurantsAttire',\n",
       " 'RestaurantsTakeOut',\n",
       " 'NoiseLevel',\n",
       " 'RestaurantsReservations',\n",
       " 'RestaurantsGoodForGroups',\n",
       " 'HasTV',\n",
       " 'Alcohol',\n",
       " 'RestaurantsDelivery',\n",
       " 'OutdoorSeating',\n",
       " 'Caters',\n",
       " 'WheelchairAccessible',\n",
       " 'AcceptsInsurance',\n",
       " 'RestaurantsTableService',\n",
       " 'Ambience',\n",
       " 'GoodForMeal',\n",
       " 'HappyHour',\n",
       " 'BusinessAcceptsBitcoin',\n",
       " 'BYOB',\n",
       " 'Corkage',\n",
       " 'GoodForDancing',\n",
       " 'CoatCheck',\n",
       " 'BestNights',\n",
       " 'Music',\n",
       " 'Smoking',\n",
       " 'DietaryRestrictions',\n",
       " 'DriveThru',\n",
       " 'HairSpecializesIn',\n",
       " 'BYOBCorkage',\n",
       " 'AgesAllowed',\n",
       " 'RestaurantsCounterService',\n",
       " 'Open24Hours']"
      ]
     },
     "execution_count": 42,
     "metadata": {},
     "output_type": "execute_result"
    }
   ],
   "source": [
    "df_bus_attr.columns"
   ]
  },
  {
   "cell_type": "markdown",
   "metadata": {},
   "source": [
    "We can see from the schema that most of the columns are string data types and the majority should be boolean types. To determine if we can convert the data in these columns to boolean, we must test how many non-null values are present when we cast the data in each of the columns to boolean. First we need to see how many non-null values are each column before testing the conversion to boolean."
   ]
  },
  {
   "cell_type": "code",
   "execution_count": 44,
   "metadata": {},
   "outputs": [
    {
     "name": "stdout",
     "output_type": "stream",
     "text": [
      "Total rows:  180348\n",
      "business_id:  180348\n",
      "BusinessAcceptsCreditCards:  105261\n",
      "BikeParking:  77428\n",
      "GoodForKids:  59097\n",
      "BusinessParking:  99288\n",
      "ByAppointmentOnly:  52166\n",
      "RestaurantsPriceRange2:  95931\n",
      "DogsAllowed:  15088\n",
      "WiFi:  56298\n",
      "RestaurantsAttire:  42672\n",
      "RestaurantsTakeOut:  57057\n",
      "NoiseLevel:  40078\n",
      "RestaurantsReservations:  47627\n",
      "RestaurantsGoodForGroups:  48398\n",
      "HasTV:  46035\n",
      "Alcohol:  43770\n",
      "RestaurantsDelivery:  48805\n",
      "OutdoorSeating:  50425\n",
      "Caters:  37792\n",
      "WheelchairAccessible:  24628\n",
      "AcceptsInsurance:  7438\n",
      "RestaurantsTableService:  17873\n",
      "Ambience:  46372\n",
      "GoodForMeal:  30298\n",
      "HappyHour:  13205\n",
      "BusinessAcceptsBitcoin:  14262\n",
      "BYOB:  634\n",
      "Corkage:  934\n",
      "GoodForDancing:  4487\n",
      "CoatCheck:  4261\n",
      "BestNights:  4730\n",
      "Music:  6846\n",
      "Smoking:  3690\n",
      "DietaryRestrictions:  52\n",
      "DriveThru:  3677\n",
      "HairSpecializesIn:  1081\n",
      "BYOBCorkage:  1213\n",
      "AgesAllowed:  123\n",
      "RestaurantsCounterService:  9\n",
      "Open24Hours:  11\n"
     ]
    }
   ],
   "source": [
    "# Determine how many rows in each column are non-null?\n",
    "print(\"Total rows: \", df_bus_attr.count())\n",
    "\n",
    "for col in df_bus_attr.columns:\n",
    "    print(f\"{col}: \", df_bus_attr.filter(F.col(f\"{col}\").isNotNull()).count())"
   ]
  },
  {
   "cell_type": "code",
   "execution_count": 46,
   "metadata": {
    "scrolled": true
   },
   "outputs": [
    {
     "name": "stdout",
     "output_type": "stream",
     "text": [
      "Total rows:  180348\n",
      "business_id:  0\n",
      "BusinessAcceptsCreditCards:  105183\n",
      "BikeParking:  77249\n",
      "GoodForKids:  59029\n",
      "BusinessParking:  0\n",
      "ByAppointmentOnly:  52088\n",
      "RestaurantsPriceRange2:  30485\n",
      "DogsAllowed:  15056\n",
      "WiFi:  0\n",
      "RestaurantsAttire:  0\n",
      "RestaurantsTakeOut:  56877\n",
      "NoiseLevel:  0\n",
      "RestaurantsReservations:  47345\n",
      "RestaurantsGoodForGroups:  48350\n",
      "HasTV:  45993\n",
      "Alcohol:  0\n",
      "RestaurantsDelivery:  47976\n",
      "OutdoorSeating:  50364\n",
      "Caters:  37673\n",
      "WheelchairAccessible:  24594\n",
      "AcceptsInsurance:  7425\n",
      "RestaurantsTableService:  17844\n",
      "Ambience:  0\n",
      "GoodForMeal:  0\n",
      "HappyHour:  13201\n",
      "BusinessAcceptsBitcoin:  14259\n",
      "BYOB:  633\n",
      "Corkage:  930\n",
      "GoodForDancing:  4481\n",
      "CoatCheck:  4256\n",
      "BestNights:  0\n",
      "Music:  0\n",
      "Smoking:  0\n",
      "DietaryRestrictions:  0\n",
      "DriveThru:  3673\n",
      "HairSpecializesIn:  0\n",
      "BYOBCorkage:  0\n",
      "AgesAllowed:  0\n",
      "RestaurantsCounterService:  9\n",
      "Open24Hours:  11\n"
     ]
    }
   ],
   "source": [
    "from pyspark.sql.types import BooleanType\n",
    "\n",
    "# Determine how many rows in each column convert properly? For ease, we will attempt to convert all\n",
    "print(\"Total rows: \", df_bus_attr.count())\n",
    "\n",
    "for col in df_bus_attr.columns:\n",
    "    print(f\"{col}: \", df_bus_attr.filter(F.col(f\"{col}\").cast(\"boolean\").isNotNull()).count())"
   ]
  },
  {
   "cell_type": "markdown",
   "metadata": {},
   "source": [
    "So there are a quite a few rows in each which don't convert properly. In the interest of time and usefulness, we are not going to convert these at the moment. If a specific need arises during our analysis to convert these, we can return to this notebook and do so."
   ]
  },
  {
   "cell_type": "code",
   "execution_count": 47,
   "metadata": {},
   "outputs": [],
   "source": [
    "# Writing the cleaned business attributes DataFrame to our cloud storage bucket\n",
    "df_bus_attr.write.option(\"header\", \"true\").option(\"sep\", \",\").mode(\"overwrite\").csv(\"gs://ca4022_yelp_data/data_clean/business_attributes.csv\")"
   ]
  },
  {
   "cell_type": "markdown",
   "metadata": {},
   "source": [
    "## Cleaning the Checkin Table"
   ]
  },
  {
   "cell_type": "code",
   "execution_count": 48,
   "metadata": {},
   "outputs": [],
   "source": [
    "df_checkin = spark.read.csv(data_folder + \"checkin.csv\", header=True, sep= \",\", inferSchema=True)"
   ]
  },
  {
   "cell_type": "markdown",
   "metadata": {},
   "source": [
    "Inspecting the data..."
   ]
  },
  {
   "cell_type": "code",
   "execution_count": 62,
   "metadata": {},
   "outputs": [
    {
     "data": {
      "text/html": [
       "<div>\n",
       "<style scoped>\n",
       "    .dataframe tbody tr th:only-of-type {\n",
       "        vertical-align: middle;\n",
       "    }\n",
       "\n",
       "    .dataframe tbody tr th {\n",
       "        vertical-align: top;\n",
       "    }\n",
       "\n",
       "    .dataframe thead th {\n",
       "        text-align: right;\n",
       "    }\n",
       "</style>\n",
       "<table border=\"1\" class=\"dataframe\">\n",
       "  <thead>\n",
       "    <tr style=\"text-align: right;\">\n",
       "      <th></th>\n",
       "      <th>business_id</th>\n",
       "      <th>date</th>\n",
       "    </tr>\n",
       "  </thead>\n",
       "  <tbody>\n",
       "    <tr>\n",
       "      <th>0</th>\n",
       "      <td>--1UhMGODdWsrMastO9DZw</td>\n",
       "      <td>2016-04-26 19:49:16, 2016-08-30 18:36:57, 2016...</td>\n",
       "    </tr>\n",
       "    <tr>\n",
       "      <th>1</th>\n",
       "      <td>--6MefnULPED_I942VcFNA</td>\n",
       "      <td>2011-06-04 18:22:23, 2011-07-23 23:51:33, 2012...</td>\n",
       "    </tr>\n",
       "    <tr>\n",
       "      <th>2</th>\n",
       "      <td>--7zmmkVg-IMGaXbuVd0SQ</td>\n",
       "      <td>2014-12-29 19:25:50, 2015-01-17 01:49:14, 2015...</td>\n",
       "    </tr>\n",
       "    <tr>\n",
       "      <th>3</th>\n",
       "      <td>--8LPVSo5i0Oo61X01sV9A</td>\n",
       "      <td>2016-07-08 16:43:30</td>\n",
       "    </tr>\n",
       "    <tr>\n",
       "      <th>4</th>\n",
       "      <td>--9QQLMTbFzLJ_oT-ON3Xw</td>\n",
       "      <td>2010-06-26 17:39:07, 2010-08-01 20:06:21, 2010...</td>\n",
       "    </tr>\n",
       "  </tbody>\n",
       "</table>\n",
       "</div>"
      ],
      "text/plain": [
       "              business_id                                               date\n",
       "0  --1UhMGODdWsrMastO9DZw  2016-04-26 19:49:16, 2016-08-30 18:36:57, 2016...\n",
       "1  --6MefnULPED_I942VcFNA  2011-06-04 18:22:23, 2011-07-23 23:51:33, 2012...\n",
       "2  --7zmmkVg-IMGaXbuVd0SQ  2014-12-29 19:25:50, 2015-01-17 01:49:14, 2015...\n",
       "3  --8LPVSo5i0Oo61X01sV9A                                2016-07-08 16:43:30\n",
       "4  --9QQLMTbFzLJ_oT-ON3Xw  2010-06-26 17:39:07, 2010-08-01 20:06:21, 2010..."
      ]
     },
     "execution_count": 62,
     "metadata": {},
     "output_type": "execute_result"
    }
   ],
   "source": [
    "df_checkin.limit(5).toPandas()"
   ]
  },
  {
   "cell_type": "markdown",
   "metadata": {},
   "source": [
    "By quickly looking at a small sample of the data, each checkin timestamp (format: yyyy-mm-dd hh:mm:ss) is stored in the date column in a comma-seperated list. There are varying amounts of checkins for each business so extracting these would be difficult from a data design perspective. In the interest of time, we will leave these as is unless a specific need arises for us to extract them."
   ]
  },
  {
   "cell_type": "code",
   "execution_count": 52,
   "metadata": {},
   "outputs": [
    {
     "name": "stdout",
     "output_type": "stream",
     "text": [
      "root\n",
      " |-- business_id: string (nullable = true)\n",
      " |-- date: string (nullable = true)\n",
      "\n"
     ]
    }
   ],
   "source": [
    "df_checkin.printSchema()"
   ]
  },
  {
   "cell_type": "code",
   "execution_count": 53,
   "metadata": {},
   "outputs": [
    {
     "data": {
      "text/plain": [
       "175187"
      ]
     },
     "execution_count": 53,
     "metadata": {},
     "output_type": "execute_result"
    }
   ],
   "source": [
    "# How many rows are in the checkin table?\n",
    "df_checkin.count()"
   ]
  },
  {
   "cell_type": "markdown",
   "metadata": {},
   "source": [
    "Let's first see if there are any NULL values in the date column..."
   ]
  },
  {
   "cell_type": "code",
   "execution_count": 54,
   "metadata": {},
   "outputs": [
    {
     "data": {
      "text/plain": [
       "0"
      ]
     },
     "execution_count": 54,
     "metadata": {},
     "output_type": "execute_result"
    }
   ],
   "source": [
    "df_checkin.filter(F.col(\"date\").isNull()).count()"
   ]
  },
  {
   "cell_type": "code",
   "execution_count": 65,
   "metadata": {},
   "outputs": [],
   "source": [
    "# Writing the cleaned checkin DataFrame to our cloud storage bucket\n",
    "df_checkin.write.option(\"header\", \"true\").option(\"sep\", \",\").mode(\"overwrite\").csv(\"gs://ca4022_yelp_data/data_clean/checkin.csv\")"
   ]
  },
  {
   "cell_type": "markdown",
   "metadata": {},
   "source": [
    "## Cleaning the Tip Table"
   ]
  },
  {
   "cell_type": "code",
   "execution_count": 4,
   "metadata": {},
   "outputs": [],
   "source": [
    "df_tip = spark.read.csv(data_folder + \"tip.csv\", header=True, sep= \",\", inferSchema=True)"
   ]
  },
  {
   "cell_type": "markdown",
   "metadata": {},
   "source": [
    "Inspecting the data..."
   ]
  },
  {
   "cell_type": "code",
   "execution_count": 5,
   "metadata": {},
   "outputs": [
    {
     "data": {
      "text/html": [
       "<div>\n",
       "<style scoped>\n",
       "    .dataframe tbody tr th:only-of-type {\n",
       "        vertical-align: middle;\n",
       "    }\n",
       "\n",
       "    .dataframe tbody tr th {\n",
       "        vertical-align: top;\n",
       "    }\n",
       "\n",
       "    .dataframe thead th {\n",
       "        text-align: right;\n",
       "    }\n",
       "</style>\n",
       "<table border=\"1\" class=\"dataframe\">\n",
       "  <thead>\n",
       "    <tr style=\"text-align: right;\">\n",
       "      <th></th>\n",
       "      <th>user_id</th>\n",
       "      <th>business_id</th>\n",
       "      <th>text</th>\n",
       "      <th>date</th>\n",
       "      <th>compliment_count</th>\n",
       "    </tr>\n",
       "  </thead>\n",
       "  <tbody>\n",
       "    <tr>\n",
       "      <th>0</th>\n",
       "      <td>hf27xTME3EiCp6NL6VtWZQ</td>\n",
       "      <td>UYX5zL_Xj9WEc_Wp-FrqHw</td>\n",
       "      <td>Here for a quick mtg</td>\n",
       "      <td>2013-11-26 18:20:08</td>\n",
       "      <td>0</td>\n",
       "    </tr>\n",
       "    <tr>\n",
       "      <th>1</th>\n",
       "      <td>uEvusDwoSymbJJ0auR3muQ</td>\n",
       "      <td>Ch3HkwQYv1YKw_FO06vBWA</td>\n",
       "      <td>Cucumber strawberry refresher</td>\n",
       "      <td>2014-06-15 22:26:45</td>\n",
       "      <td>0</td>\n",
       "    </tr>\n",
       "    <tr>\n",
       "      <th>2</th>\n",
       "      <td>AY-laIws3S7YXNl_f_D6rQ</td>\n",
       "      <td>rDoT-MgxGRiYqCmi0bG10g</td>\n",
       "      <td>Very nice good service good food</td>\n",
       "      <td>2016-07-18 22:03:42</td>\n",
       "      <td>0</td>\n",
       "    </tr>\n",
       "    <tr>\n",
       "      <th>3</th>\n",
       "      <td>Ue_7yUlkEbX4AhnYdUfL7g</td>\n",
       "      <td>OHXnDV01gLokiX1ELaQufA</td>\n",
       "      <td>It's a small place. The staff is friendly.</td>\n",
       "      <td>2014-06-06 01:10:34</td>\n",
       "      <td>0</td>\n",
       "    </tr>\n",
       "    <tr>\n",
       "      <th>4</th>\n",
       "      <td>LltbT_fUMqZ-ZJP-vJ84IQ</td>\n",
       "      <td>GMrwDXRlAZU2zj5nH6l4vQ</td>\n",
       "      <td>8 sandwiches, $24 total...what a bargain!!! An...</td>\n",
       "      <td>2011-04-08 18:12:01</td>\n",
       "      <td>0</td>\n",
       "    </tr>\n",
       "    <tr>\n",
       "      <th>5</th>\n",
       "      <td>HHNBqfbDR8b1iq-QGxu8ww</td>\n",
       "      <td>ALwAlxItASeEs2vYAeLXHA</td>\n",
       "      <td>Great ramen! Not only is the presentation gorg...</td>\n",
       "      <td>2015-05-20 20:17:38</td>\n",
       "      <td>0</td>\n",
       "    </tr>\n",
       "    <tr>\n",
       "      <th>6</th>\n",
       "      <td>r0j4IpUbcdC1-HfoMYae4w</td>\n",
       "      <td>d_L-rfS1vT3JMzgCUGtiow</td>\n",
       "      <td>Cochinita Pibil was memorable &amp; delicious !</td>\n",
       "      <td>2014-09-01 01:23:48</td>\n",
       "      <td>0</td>\n",
       "    </tr>\n",
       "    <tr>\n",
       "      <th>7</th>\n",
       "      <td>gxVQZJVeKBUk7jEhSyqv-A</td>\n",
       "      <td>5FIOXmUE3qMviX9GafGH-Q</td>\n",
       "      <td>Get a tsoynami for sure.</td>\n",
       "      <td>2010-01-30 02:03:16</td>\n",
       "      <td>0</td>\n",
       "    </tr>\n",
       "    <tr>\n",
       "      <th>8</th>\n",
       "      <td>2hdR7KYAmnCk2FjTnPFsuw</td>\n",
       "      <td>rcaPajgKOJC2vo_l3xa42A</td>\n",
       "      <td>Kelly is an awesome waitress there!</td>\n",
       "      <td>2012-05-29 02:05:56</td>\n",
       "      <td>0</td>\n",
       "    </tr>\n",
       "    <tr>\n",
       "      <th>9</th>\n",
       "      <td>DsWg3leomfasGs3j0rOfbQ</td>\n",
       "      <td>hfBrethLHS9iXeBNR8MtzQ</td>\n",
       "      <td>Check out the great assortment of organic &amp; co...</td>\n",
       "      <td>2011-09-30 18:38:47</td>\n",
       "      <td>0</td>\n",
       "    </tr>\n",
       "  </tbody>\n",
       "</table>\n",
       "</div>"
      ],
      "text/plain": [
       "                  user_id             business_id  \\\n",
       "0  hf27xTME3EiCp6NL6VtWZQ  UYX5zL_Xj9WEc_Wp-FrqHw   \n",
       "1  uEvusDwoSymbJJ0auR3muQ  Ch3HkwQYv1YKw_FO06vBWA   \n",
       "2  AY-laIws3S7YXNl_f_D6rQ  rDoT-MgxGRiYqCmi0bG10g   \n",
       "3  Ue_7yUlkEbX4AhnYdUfL7g  OHXnDV01gLokiX1ELaQufA   \n",
       "4  LltbT_fUMqZ-ZJP-vJ84IQ  GMrwDXRlAZU2zj5nH6l4vQ   \n",
       "5  HHNBqfbDR8b1iq-QGxu8ww  ALwAlxItASeEs2vYAeLXHA   \n",
       "6  r0j4IpUbcdC1-HfoMYae4w  d_L-rfS1vT3JMzgCUGtiow   \n",
       "7  gxVQZJVeKBUk7jEhSyqv-A  5FIOXmUE3qMviX9GafGH-Q   \n",
       "8  2hdR7KYAmnCk2FjTnPFsuw  rcaPajgKOJC2vo_l3xa42A   \n",
       "9  DsWg3leomfasGs3j0rOfbQ  hfBrethLHS9iXeBNR8MtzQ   \n",
       "\n",
       "                                                text                 date  \\\n",
       "0                               Here for a quick mtg  2013-11-26 18:20:08   \n",
       "1                      Cucumber strawberry refresher  2014-06-15 22:26:45   \n",
       "2                   Very nice good service good food  2016-07-18 22:03:42   \n",
       "3         It's a small place. The staff is friendly.  2014-06-06 01:10:34   \n",
       "4  8 sandwiches, $24 total...what a bargain!!! An...  2011-04-08 18:12:01   \n",
       "5  Great ramen! Not only is the presentation gorg...  2015-05-20 20:17:38   \n",
       "6        Cochinita Pibil was memorable & delicious !  2014-09-01 01:23:48   \n",
       "7                           Get a tsoynami for sure.  2010-01-30 02:03:16   \n",
       "8                Kelly is an awesome waitress there!  2012-05-29 02:05:56   \n",
       "9  Check out the great assortment of organic & co...  2011-09-30 18:38:47   \n",
       "\n",
       "  compliment_count  \n",
       "0                0  \n",
       "1                0  \n",
       "2                0  \n",
       "3                0  \n",
       "4                0  \n",
       "5                0  \n",
       "6                0  \n",
       "7                0  \n",
       "8                0  \n",
       "9                0  "
      ]
     },
     "execution_count": 5,
     "metadata": {},
     "output_type": "execute_result"
    }
   ],
   "source": [
    "df_tip.limit(10).toPandas()"
   ]
  },
  {
   "cell_type": "markdown",
   "metadata": {},
   "source": [
    "By quickly looking at a small sample of the data, we can see that it appears relatively clean but more analysis is needed to confirm this. Let's check the schema of the data..."
   ]
  },
  {
   "cell_type": "code",
   "execution_count": 6,
   "metadata": {},
   "outputs": [
    {
     "name": "stdout",
     "output_type": "stream",
     "text": [
      "root\n",
      " |-- user_id: string (nullable = true)\n",
      " |-- business_id: string (nullable = true)\n",
      " |-- text: string (nullable = true)\n",
      " |-- date: string (nullable = true)\n",
      " |-- compliment_count: string (nullable = true)\n",
      "\n"
     ]
    }
   ],
   "source": [
    "df_tip.printSchema()"
   ]
  },
  {
   "cell_type": "markdown",
   "metadata": {},
   "source": [
    "We can see from the schema that all of the columns are strings and the majority of these are fine but the compliment_count column should be an integer type. It is also probably preferable to convert the date column to an actual timestamp data type."
   ]
  },
  {
   "cell_type": "code",
   "execution_count": 8,
   "metadata": {},
   "outputs": [
    {
     "data": {
      "text/plain": [
       "1363162"
      ]
     },
     "execution_count": 8,
     "metadata": {},
     "output_type": "execute_result"
    }
   ],
   "source": [
    "# How many rows are in the tip table?\n",
    "df_tip.count()"
   ]
  },
  {
   "cell_type": "markdown",
   "metadata": {},
   "source": [
    "To determine if we can convert the data in these columns, we must test how many non-null values are present when we cast the data in each of the columns."
   ]
  },
  {
   "cell_type": "code",
   "execution_count": 9,
   "metadata": {},
   "outputs": [
    {
     "name": "stdout",
     "output_type": "stream",
     "text": [
      "Date:  1289856\n",
      "Compliment Count:  1289859\n"
     ]
    }
   ],
   "source": [
    "# Determine how many rows in each column convert properly?\n",
    "print(\"Date: \", df_tip.filter(to_timestamp(df_tip.date, 'yyyy-MM-dd HH:mm:ss').isNotNull()).count())\n",
    "print(\"Compliment Count: \", df_tip.filter(F.col(\"compliment_count\").cast(\"int\").isNotNull()).count())"
   ]
  },
  {
   "cell_type": "markdown",
   "metadata": {},
   "source": [
    "So there are a lot of rows which don't convert properly, let's examine these..."
   ]
  },
  {
   "cell_type": "code",
   "execution_count": 10,
   "metadata": {},
   "outputs": [
    {
     "data": {
      "text/html": [
       "<div>\n",
       "<style scoped>\n",
       "    .dataframe tbody tr th:only-of-type {\n",
       "        vertical-align: middle;\n",
       "    }\n",
       "\n",
       "    .dataframe tbody tr th {\n",
       "        vertical-align: top;\n",
       "    }\n",
       "\n",
       "    .dataframe thead th {\n",
       "        text-align: right;\n",
       "    }\n",
       "</style>\n",
       "<table border=\"1\" class=\"dataframe\">\n",
       "  <thead>\n",
       "    <tr style=\"text-align: right;\">\n",
       "      <th></th>\n",
       "      <th>user_id</th>\n",
       "      <th>business_id</th>\n",
       "      <th>text</th>\n",
       "      <th>date</th>\n",
       "      <th>compliment_count</th>\n",
       "    </tr>\n",
       "  </thead>\n",
       "  <tbody>\n",
       "    <tr>\n",
       "      <th>0</th>\n",
       "      <td>Cg189N5utFD_4VxXImPZjg</td>\n",
       "      <td>MyTsAeShB9pcWP84GSTAdw</td>\n",
       "      <td>1. Kimchi salsa</td>\n",
       "      <td>None</td>\n",
       "      <td>None</td>\n",
       "    </tr>\n",
       "    <tr>\n",
       "      <th>1</th>\n",
       "      <td>2. Bulgogi burrito</td>\n",
       "      <td>None</td>\n",
       "      <td>None</td>\n",
       "      <td>None</td>\n",
       "      <td>None</td>\n",
       "    </tr>\n",
       "    <tr>\n",
       "      <th>2</th>\n",
       "      <td>3. Go!\"</td>\n",
       "      <td>2013-12-22 21:53:23</td>\n",
       "      <td>0</td>\n",
       "      <td>None</td>\n",
       "      <td>None</td>\n",
       "    </tr>\n",
       "    <tr>\n",
       "      <th>3</th>\n",
       "      <td>0sl4I8R7znWXp_K4A0nZ_w</td>\n",
       "      <td>VgSF_jQ8St7A2DhdafRDCQ</td>\n",
       "      <td>\"Affectionately called \"\"The Queue\"\" by locals</td>\n",
       "      <td>and home to the 2015-16 NBA Champion Clevelan...</td>\n",
       "      <td>2017-05-10 00:26:31</td>\n",
       "    </tr>\n",
       "    <tr>\n",
       "      <th>4</th>\n",
       "      <td>-vfjOBjztq9rOtOK7YMVXQ</td>\n",
       "      <td>l-Zjik0MbpabQPv-nNp9YQ</td>\n",
       "      <td>Street parking went early took home apple frit...</td>\n",
       "      <td>None</td>\n",
       "      <td>None</td>\n",
       "    </tr>\n",
       "    <tr>\n",
       "      <th>5</th>\n",
       "      <td>Took a Huge cold cut sandwich and Greek salad ...</td>\n",
       "      <td>great bread fresh</td>\n",
       "      <td>None</td>\n",
       "      <td>None</td>\n",
       "      <td>None</td>\n",
       "    </tr>\n",
       "    <tr>\n",
       "      <th>6</th>\n",
       "      <td>Next time  porchetta  sandwich</td>\n",
       "      <td>None</td>\n",
       "      <td>None</td>\n",
       "      <td>None</td>\n",
       "      <td>None</td>\n",
       "    </tr>\n",
       "    <tr>\n",
       "      <th>7</th>\n",
       "      <td>Guess what porchetta in assorted with cracking...</td>\n",
       "      <td>2014-03-15 16:40:21</td>\n",
       "      <td>0</td>\n",
       "      <td>None</td>\n",
       "      <td>None</td>\n",
       "    </tr>\n",
       "    <tr>\n",
       "      <th>8</th>\n",
       "      <td>JX7mjMODvt96vQIj9ENzhw</td>\n",
       "      <td>hTq7pFDjS0o3KhheKGkvBw</td>\n",
       "      <td>I have intel telling me they really do what th...</td>\n",
       "      <td>None</td>\n",
       "      <td>None</td>\n",
       "    </tr>\n",
       "    <tr>\n",
       "      <th>9</th>\n",
       "      <td>Be kind and don't allow your bad attitude to t...</td>\n",
       "      <td>2016-12-13 17:17:54</td>\n",
       "      <td>0</td>\n",
       "      <td>None</td>\n",
       "      <td>None</td>\n",
       "    </tr>\n",
       "  </tbody>\n",
       "</table>\n",
       "</div>"
      ],
      "text/plain": [
       "                                             user_id             business_id  \\\n",
       "0                             Cg189N5utFD_4VxXImPZjg  MyTsAeShB9pcWP84GSTAdw   \n",
       "1                                 2. Bulgogi burrito                    None   \n",
       "2                                            3. Go!\"     2013-12-22 21:53:23   \n",
       "3                             0sl4I8R7znWXp_K4A0nZ_w  VgSF_jQ8St7A2DhdafRDCQ   \n",
       "4                             -vfjOBjztq9rOtOK7YMVXQ  l-Zjik0MbpabQPv-nNp9YQ   \n",
       "5  Took a Huge cold cut sandwich and Greek salad ...       great bread fresh   \n",
       "6                     Next time  porchetta  sandwich                    None   \n",
       "7  Guess what porchetta in assorted with cracking...     2014-03-15 16:40:21   \n",
       "8                             JX7mjMODvt96vQIj9ENzhw  hTq7pFDjS0o3KhheKGkvBw   \n",
       "9  Be kind and don't allow your bad attitude to t...     2016-12-13 17:17:54   \n",
       "\n",
       "                                                text  \\\n",
       "0                                    1. Kimchi salsa   \n",
       "1                                               None   \n",
       "2                                                  0   \n",
       "3     \"Affectionately called \"\"The Queue\"\" by locals   \n",
       "4  Street parking went early took home apple frit...   \n",
       "5                                               None   \n",
       "6                                               None   \n",
       "7                                                  0   \n",
       "8  I have intel telling me they really do what th...   \n",
       "9                                                  0   \n",
       "\n",
       "                                                date     compliment_count  \n",
       "0                                               None                 None  \n",
       "1                                               None                 None  \n",
       "2                                               None                 None  \n",
       "3   and home to the 2015-16 NBA Champion Clevelan...  2017-05-10 00:26:31  \n",
       "4                                               None                 None  \n",
       "5                                               None                 None  \n",
       "6                                               None                 None  \n",
       "7                                               None                 None  \n",
       "8                                               None                 None  \n",
       "9                                               None                 None  "
      ]
     },
     "execution_count": 10,
     "metadata": {},
     "output_type": "execute_result"
    }
   ],
   "source": [
    "# Rows where the date column doesn't convert properly\n",
    "df_tip.filter(to_timestamp(df_tip.date, 'yyyy-MM-dd HH:mm:ss').isNull()).limit(10).toPandas()"
   ]
  },
  {
   "cell_type": "code",
   "execution_count": 11,
   "metadata": {},
   "outputs": [
    {
     "data": {
      "text/html": [
       "<div>\n",
       "<style scoped>\n",
       "    .dataframe tbody tr th:only-of-type {\n",
       "        vertical-align: middle;\n",
       "    }\n",
       "\n",
       "    .dataframe tbody tr th {\n",
       "        vertical-align: top;\n",
       "    }\n",
       "\n",
       "    .dataframe thead th {\n",
       "        text-align: right;\n",
       "    }\n",
       "</style>\n",
       "<table border=\"1\" class=\"dataframe\">\n",
       "  <thead>\n",
       "    <tr style=\"text-align: right;\">\n",
       "      <th></th>\n",
       "      <th>user_id</th>\n",
       "      <th>business_id</th>\n",
       "      <th>text</th>\n",
       "      <th>date</th>\n",
       "      <th>compliment_count</th>\n",
       "    </tr>\n",
       "  </thead>\n",
       "  <tbody>\n",
       "    <tr>\n",
       "      <th>0</th>\n",
       "      <td>Cg189N5utFD_4VxXImPZjg</td>\n",
       "      <td>MyTsAeShB9pcWP84GSTAdw</td>\n",
       "      <td>1. Kimchi salsa</td>\n",
       "      <td>None</td>\n",
       "      <td>None</td>\n",
       "    </tr>\n",
       "    <tr>\n",
       "      <th>1</th>\n",
       "      <td>2. Bulgogi burrito</td>\n",
       "      <td>None</td>\n",
       "      <td>None</td>\n",
       "      <td>None</td>\n",
       "      <td>None</td>\n",
       "    </tr>\n",
       "    <tr>\n",
       "      <th>2</th>\n",
       "      <td>3. Go!\"</td>\n",
       "      <td>2013-12-22 21:53:23</td>\n",
       "      <td>0</td>\n",
       "      <td>None</td>\n",
       "      <td>None</td>\n",
       "    </tr>\n",
       "    <tr>\n",
       "      <th>3</th>\n",
       "      <td>0sl4I8R7znWXp_K4A0nZ_w</td>\n",
       "      <td>VgSF_jQ8St7A2DhdafRDCQ</td>\n",
       "      <td>\"Affectionately called \"\"The Queue\"\" by locals</td>\n",
       "      <td>and home to the 2015-16 NBA Champion Clevelan...</td>\n",
       "      <td>2017-05-10 00:26:31</td>\n",
       "    </tr>\n",
       "    <tr>\n",
       "      <th>4</th>\n",
       "      <td>-vfjOBjztq9rOtOK7YMVXQ</td>\n",
       "      <td>l-Zjik0MbpabQPv-nNp9YQ</td>\n",
       "      <td>Street parking went early took home apple frit...</td>\n",
       "      <td>None</td>\n",
       "      <td>None</td>\n",
       "    </tr>\n",
       "    <tr>\n",
       "      <th>5</th>\n",
       "      <td>Took a Huge cold cut sandwich and Greek salad ...</td>\n",
       "      <td>great bread fresh</td>\n",
       "      <td>None</td>\n",
       "      <td>None</td>\n",
       "      <td>None</td>\n",
       "    </tr>\n",
       "    <tr>\n",
       "      <th>6</th>\n",
       "      <td>Next time  porchetta  sandwich</td>\n",
       "      <td>None</td>\n",
       "      <td>None</td>\n",
       "      <td>None</td>\n",
       "      <td>None</td>\n",
       "    </tr>\n",
       "    <tr>\n",
       "      <th>7</th>\n",
       "      <td>Guess what porchetta in assorted with cracking...</td>\n",
       "      <td>2014-03-15 16:40:21</td>\n",
       "      <td>0</td>\n",
       "      <td>None</td>\n",
       "      <td>None</td>\n",
       "    </tr>\n",
       "    <tr>\n",
       "      <th>8</th>\n",
       "      <td>JX7mjMODvt96vQIj9ENzhw</td>\n",
       "      <td>hTq7pFDjS0o3KhheKGkvBw</td>\n",
       "      <td>I have intel telling me they really do what th...</td>\n",
       "      <td>None</td>\n",
       "      <td>None</td>\n",
       "    </tr>\n",
       "    <tr>\n",
       "      <th>9</th>\n",
       "      <td>Be kind and don't allow your bad attitude to t...</td>\n",
       "      <td>2016-12-13 17:17:54</td>\n",
       "      <td>0</td>\n",
       "      <td>None</td>\n",
       "      <td>None</td>\n",
       "    </tr>\n",
       "  </tbody>\n",
       "</table>\n",
       "</div>"
      ],
      "text/plain": [
       "                                             user_id             business_id  \\\n",
       "0                             Cg189N5utFD_4VxXImPZjg  MyTsAeShB9pcWP84GSTAdw   \n",
       "1                                 2. Bulgogi burrito                    None   \n",
       "2                                            3. Go!\"     2013-12-22 21:53:23   \n",
       "3                             0sl4I8R7znWXp_K4A0nZ_w  VgSF_jQ8St7A2DhdafRDCQ   \n",
       "4                             -vfjOBjztq9rOtOK7YMVXQ  l-Zjik0MbpabQPv-nNp9YQ   \n",
       "5  Took a Huge cold cut sandwich and Greek salad ...       great bread fresh   \n",
       "6                     Next time  porchetta  sandwich                    None   \n",
       "7  Guess what porchetta in assorted with cracking...     2014-03-15 16:40:21   \n",
       "8                             JX7mjMODvt96vQIj9ENzhw  hTq7pFDjS0o3KhheKGkvBw   \n",
       "9  Be kind and don't allow your bad attitude to t...     2016-12-13 17:17:54   \n",
       "\n",
       "                                                text  \\\n",
       "0                                    1. Kimchi salsa   \n",
       "1                                               None   \n",
       "2                                                  0   \n",
       "3     \"Affectionately called \"\"The Queue\"\" by locals   \n",
       "4  Street parking went early took home apple frit...   \n",
       "5                                               None   \n",
       "6                                               None   \n",
       "7                                                  0   \n",
       "8  I have intel telling me they really do what th...   \n",
       "9                                                  0   \n",
       "\n",
       "                                                date     compliment_count  \n",
       "0                                               None                 None  \n",
       "1                                               None                 None  \n",
       "2                                               None                 None  \n",
       "3   and home to the 2015-16 NBA Champion Clevelan...  2017-05-10 00:26:31  \n",
       "4                                               None                 None  \n",
       "5                                               None                 None  \n",
       "6                                               None                 None  \n",
       "7                                               None                 None  \n",
       "8                                               None                 None  \n",
       "9                                               None                 None  "
      ]
     },
     "execution_count": 11,
     "metadata": {},
     "output_type": "execute_result"
    }
   ],
   "source": [
    "# Rows where the compliment_count column doesn't convert properly\n",
    "df_tip.filter(F.col(\"compliment_count\").cast(\"int\").isNull()).limit(10).toPandas()"
   ]
  },
  {
   "cell_type": "markdown",
   "metadata": {},
   "source": [
    "Clearly, these erroneous rows are caused by incorrect parsing of the CSV file from which they are read. In the interest of time, we will filter out all of these rows..."
   ]
  },
  {
   "cell_type": "code",
   "execution_count": 12,
   "metadata": {},
   "outputs": [],
   "source": [
    "df_tip = df_tip.filter(to_timestamp(df_tip.date, 'yyyy-MM-dd HH:mm:ss').isNotNull())"
   ]
  },
  {
   "cell_type": "code",
   "execution_count": 13,
   "metadata": {},
   "outputs": [
    {
     "data": {
      "text/plain": [
       "1289856"
      ]
     },
     "execution_count": 13,
     "metadata": {},
     "output_type": "execute_result"
    }
   ],
   "source": [
    "df_tip.count()"
   ]
  },
  {
   "cell_type": "markdown",
   "metadata": {},
   "source": [
    "Now, we can change the type of each column..."
   ]
  },
  {
   "cell_type": "code",
   "execution_count": 14,
   "metadata": {},
   "outputs": [],
   "source": [
    "df_tip = df_tip.withColumn(\"date\", to_timestamp(df_tip.date, 'yyyy-MM-dd HH:mm:ss'))\n",
    "df_tip = df_tip.withColumn(\"compliment_count\", df_tip[\"compliment_count\"].cast(\"int\"))"
   ]
  },
  {
   "cell_type": "code",
   "execution_count": 15,
   "metadata": {},
   "outputs": [
    {
     "name": "stdout",
     "output_type": "stream",
     "text": [
      "root\n",
      " |-- user_id: string (nullable = true)\n",
      " |-- business_id: string (nullable = true)\n",
      " |-- text: string (nullable = true)\n",
      " |-- date: timestamp (nullable = true)\n",
      " |-- compliment_count: integer (nullable = true)\n",
      "\n"
     ]
    }
   ],
   "source": [
    "df_tip.printSchema()"
   ]
  },
  {
   "cell_type": "code",
   "execution_count": 18,
   "metadata": {},
   "outputs": [
    {
     "data": {
      "text/html": [
       "<div>\n",
       "<style scoped>\n",
       "    .dataframe tbody tr th:only-of-type {\n",
       "        vertical-align: middle;\n",
       "    }\n",
       "\n",
       "    .dataframe tbody tr th {\n",
       "        vertical-align: top;\n",
       "    }\n",
       "\n",
       "    .dataframe thead th {\n",
       "        text-align: right;\n",
       "    }\n",
       "</style>\n",
       "<table border=\"1\" class=\"dataframe\">\n",
       "  <thead>\n",
       "    <tr style=\"text-align: right;\">\n",
       "      <th></th>\n",
       "      <th>user_id</th>\n",
       "      <th>business_id</th>\n",
       "      <th>text</th>\n",
       "      <th>date</th>\n",
       "      <th>compliment_count</th>\n",
       "    </tr>\n",
       "  </thead>\n",
       "  <tbody>\n",
       "    <tr>\n",
       "      <th>0</th>\n",
       "      <td>hf27xTME3EiCp6NL6VtWZQ</td>\n",
       "      <td>UYX5zL_Xj9WEc_Wp-FrqHw</td>\n",
       "      <td>Here for a quick mtg</td>\n",
       "      <td>2013-11-26 18:20:08</td>\n",
       "      <td>0</td>\n",
       "    </tr>\n",
       "    <tr>\n",
       "      <th>1</th>\n",
       "      <td>uEvusDwoSymbJJ0auR3muQ</td>\n",
       "      <td>Ch3HkwQYv1YKw_FO06vBWA</td>\n",
       "      <td>Cucumber strawberry refresher</td>\n",
       "      <td>2014-06-15 22:26:45</td>\n",
       "      <td>0</td>\n",
       "    </tr>\n",
       "    <tr>\n",
       "      <th>2</th>\n",
       "      <td>AY-laIws3S7YXNl_f_D6rQ</td>\n",
       "      <td>rDoT-MgxGRiYqCmi0bG10g</td>\n",
       "      <td>Very nice good service good food</td>\n",
       "      <td>2016-07-18 22:03:42</td>\n",
       "      <td>0</td>\n",
       "    </tr>\n",
       "    <tr>\n",
       "      <th>3</th>\n",
       "      <td>Ue_7yUlkEbX4AhnYdUfL7g</td>\n",
       "      <td>OHXnDV01gLokiX1ELaQufA</td>\n",
       "      <td>It's a small place. The staff is friendly.</td>\n",
       "      <td>2014-06-06 01:10:34</td>\n",
       "      <td>0</td>\n",
       "    </tr>\n",
       "    <tr>\n",
       "      <th>4</th>\n",
       "      <td>LltbT_fUMqZ-ZJP-vJ84IQ</td>\n",
       "      <td>GMrwDXRlAZU2zj5nH6l4vQ</td>\n",
       "      <td>8 sandwiches, $24 total...what a bargain!!! An...</td>\n",
       "      <td>2011-04-08 18:12:01</td>\n",
       "      <td>0</td>\n",
       "    </tr>\n",
       "    <tr>\n",
       "      <th>5</th>\n",
       "      <td>HHNBqfbDR8b1iq-QGxu8ww</td>\n",
       "      <td>ALwAlxItASeEs2vYAeLXHA</td>\n",
       "      <td>Great ramen! Not only is the presentation gorg...</td>\n",
       "      <td>2015-05-20 20:17:38</td>\n",
       "      <td>0</td>\n",
       "    </tr>\n",
       "    <tr>\n",
       "      <th>6</th>\n",
       "      <td>r0j4IpUbcdC1-HfoMYae4w</td>\n",
       "      <td>d_L-rfS1vT3JMzgCUGtiow</td>\n",
       "      <td>Cochinita Pibil was memorable &amp; delicious !</td>\n",
       "      <td>2014-09-01 01:23:48</td>\n",
       "      <td>0</td>\n",
       "    </tr>\n",
       "    <tr>\n",
       "      <th>7</th>\n",
       "      <td>gxVQZJVeKBUk7jEhSyqv-A</td>\n",
       "      <td>5FIOXmUE3qMviX9GafGH-Q</td>\n",
       "      <td>Get a tsoynami for sure.</td>\n",
       "      <td>2010-01-30 02:03:16</td>\n",
       "      <td>0</td>\n",
       "    </tr>\n",
       "    <tr>\n",
       "      <th>8</th>\n",
       "      <td>2hdR7KYAmnCk2FjTnPFsuw</td>\n",
       "      <td>rcaPajgKOJC2vo_l3xa42A</td>\n",
       "      <td>Kelly is an awesome waitress there!</td>\n",
       "      <td>2012-05-29 02:05:56</td>\n",
       "      <td>0</td>\n",
       "    </tr>\n",
       "    <tr>\n",
       "      <th>9</th>\n",
       "      <td>DsWg3leomfasGs3j0rOfbQ</td>\n",
       "      <td>hfBrethLHS9iXeBNR8MtzQ</td>\n",
       "      <td>Check out the great assortment of organic &amp; co...</td>\n",
       "      <td>2011-09-30 18:38:47</td>\n",
       "      <td>0</td>\n",
       "    </tr>\n",
       "  </tbody>\n",
       "</table>\n",
       "</div>"
      ],
      "text/plain": [
       "                  user_id             business_id  \\\n",
       "0  hf27xTME3EiCp6NL6VtWZQ  UYX5zL_Xj9WEc_Wp-FrqHw   \n",
       "1  uEvusDwoSymbJJ0auR3muQ  Ch3HkwQYv1YKw_FO06vBWA   \n",
       "2  AY-laIws3S7YXNl_f_D6rQ  rDoT-MgxGRiYqCmi0bG10g   \n",
       "3  Ue_7yUlkEbX4AhnYdUfL7g  OHXnDV01gLokiX1ELaQufA   \n",
       "4  LltbT_fUMqZ-ZJP-vJ84IQ  GMrwDXRlAZU2zj5nH6l4vQ   \n",
       "5  HHNBqfbDR8b1iq-QGxu8ww  ALwAlxItASeEs2vYAeLXHA   \n",
       "6  r0j4IpUbcdC1-HfoMYae4w  d_L-rfS1vT3JMzgCUGtiow   \n",
       "7  gxVQZJVeKBUk7jEhSyqv-A  5FIOXmUE3qMviX9GafGH-Q   \n",
       "8  2hdR7KYAmnCk2FjTnPFsuw  rcaPajgKOJC2vo_l3xa42A   \n",
       "9  DsWg3leomfasGs3j0rOfbQ  hfBrethLHS9iXeBNR8MtzQ   \n",
       "\n",
       "                                                text                date  \\\n",
       "0                               Here for a quick mtg 2013-11-26 18:20:08   \n",
       "1                      Cucumber strawberry refresher 2014-06-15 22:26:45   \n",
       "2                   Very nice good service good food 2016-07-18 22:03:42   \n",
       "3         It's a small place. The staff is friendly. 2014-06-06 01:10:34   \n",
       "4  8 sandwiches, $24 total...what a bargain!!! An... 2011-04-08 18:12:01   \n",
       "5  Great ramen! Not only is the presentation gorg... 2015-05-20 20:17:38   \n",
       "6        Cochinita Pibil was memorable & delicious ! 2014-09-01 01:23:48   \n",
       "7                           Get a tsoynami for sure. 2010-01-30 02:03:16   \n",
       "8                Kelly is an awesome waitress there! 2012-05-29 02:05:56   \n",
       "9  Check out the great assortment of organic & co... 2011-09-30 18:38:47   \n",
       "\n",
       "   compliment_count  \n",
       "0                 0  \n",
       "1                 0  \n",
       "2                 0  \n",
       "3                 0  \n",
       "4                 0  \n",
       "5                 0  \n",
       "6                 0  \n",
       "7                 0  \n",
       "8                 0  \n",
       "9                 0  "
      ]
     },
     "execution_count": 18,
     "metadata": {},
     "output_type": "execute_result"
    }
   ],
   "source": [
    "df_tip.limit(10).toPandas()"
   ]
  },
  {
   "cell_type": "markdown",
   "metadata": {},
   "source": [
    "We can now write this cleaned DataFrame to a new CSV file in our Cloud Storage Bucket."
   ]
  },
  {
   "cell_type": "code",
   "execution_count": 19,
   "metadata": {},
   "outputs": [],
   "source": [
    "df_tip.write.option(\"header\", \"true\").option(\"sep\", \",\").mode(\"overwrite\").csv(\"gs://ca4022_yelp_data/data_clean/tip.csv\")"
   ]
  },
  {
   "cell_type": "markdown",
   "metadata": {},
   "source": [
    "## Cleaning the Review Table"
   ]
  },
  {
   "cell_type": "markdown",
   "metadata": {},
   "source": [
    "The reviews and users tables were the only ones which weren't previously converted to CSV files due to their size. They are stored as JSON files and we will have to read them into Spark as so."
   ]
  },
  {
   "cell_type": "code",
   "execution_count": 4,
   "metadata": {},
   "outputs": [],
   "source": [
    "df_review = spark.read.json(\"gs://ca4022_yelp_data/data_raw/yelp_academic_dataset_review.json\")"
   ]
  },
  {
   "cell_type": "code",
   "execution_count": 5,
   "metadata": {},
   "outputs": [
    {
     "data": {
      "text/html": [
       "<div>\n",
       "<style scoped>\n",
       "    .dataframe tbody tr th:only-of-type {\n",
       "        vertical-align: middle;\n",
       "    }\n",
       "\n",
       "    .dataframe tbody tr th {\n",
       "        vertical-align: top;\n",
       "    }\n",
       "\n",
       "    .dataframe thead th {\n",
       "        text-align: right;\n",
       "    }\n",
       "</style>\n",
       "<table border=\"1\" class=\"dataframe\">\n",
       "  <thead>\n",
       "    <tr style=\"text-align: right;\">\n",
       "      <th></th>\n",
       "      <th>business_id</th>\n",
       "      <th>cool</th>\n",
       "      <th>date</th>\n",
       "      <th>funny</th>\n",
       "      <th>review_id</th>\n",
       "      <th>stars</th>\n",
       "      <th>text</th>\n",
       "      <th>useful</th>\n",
       "      <th>user_id</th>\n",
       "    </tr>\n",
       "  </thead>\n",
       "  <tbody>\n",
       "    <tr>\n",
       "      <th>0</th>\n",
       "      <td>-MhfebM0QIsKt87iDN-FNw</td>\n",
       "      <td>0</td>\n",
       "      <td>2015-04-15 05:21:16</td>\n",
       "      <td>0</td>\n",
       "      <td>xQY8N_XvtGbearJ5X4QryQ</td>\n",
       "      <td>2.0</td>\n",
       "      <td>As someone who has worked with many museums, I...</td>\n",
       "      <td>5</td>\n",
       "      <td>OwjRMXRC0KyPrIlcjaXeFQ</td>\n",
       "    </tr>\n",
       "    <tr>\n",
       "      <th>1</th>\n",
       "      <td>lbrU8StCq3yDfr-QMnGrmQ</td>\n",
       "      <td>0</td>\n",
       "      <td>2013-12-07 03:16:52</td>\n",
       "      <td>1</td>\n",
       "      <td>UmFMZ8PyXZTY2QcwzsfQYA</td>\n",
       "      <td>1.0</td>\n",
       "      <td>I am actually horrified this place is still in...</td>\n",
       "      <td>1</td>\n",
       "      <td>nIJD_7ZXHq-FX8byPMOkMQ</td>\n",
       "    </tr>\n",
       "    <tr>\n",
       "      <th>2</th>\n",
       "      <td>HQl28KMwrEKHqhFrrDqVNQ</td>\n",
       "      <td>0</td>\n",
       "      <td>2015-12-05 03:18:11</td>\n",
       "      <td>0</td>\n",
       "      <td>LG2ZaYiOgpr2DK_90pYjNw</td>\n",
       "      <td>5.0</td>\n",
       "      <td>I love Deagan's. I do. I really do. The atmosp...</td>\n",
       "      <td>1</td>\n",
       "      <td>V34qejxNsCbcgD8C0HVk-Q</td>\n",
       "    </tr>\n",
       "    <tr>\n",
       "      <th>3</th>\n",
       "      <td>5JxlZaqCnk1MnbgRirs40Q</td>\n",
       "      <td>0</td>\n",
       "      <td>2011-05-27 05:30:52</td>\n",
       "      <td>0</td>\n",
       "      <td>i6g_oA9Yf9Y31qt0wibXpw</td>\n",
       "      <td>1.0</td>\n",
       "      <td>Dismal, lukewarm, defrosted-tasting \"TexMex\" g...</td>\n",
       "      <td>0</td>\n",
       "      <td>ofKDkJKXSKZXu5xJNGiiBQ</td>\n",
       "    </tr>\n",
       "    <tr>\n",
       "      <th>4</th>\n",
       "      <td>IS4cv902ykd8wj1TR0N3-A</td>\n",
       "      <td>0</td>\n",
       "      <td>2017-01-14 21:56:57</td>\n",
       "      <td>0</td>\n",
       "      <td>6TdNDKywdbjoTkizeMce8A</td>\n",
       "      <td>4.0</td>\n",
       "      <td>Oh happy day, finally have a Canes near my cas...</td>\n",
       "      <td>0</td>\n",
       "      <td>UgMW8bLE0QMJDCkQ1Ax5Mg</td>\n",
       "    </tr>\n",
       "    <tr>\n",
       "      <th>5</th>\n",
       "      <td>nlxHRv1zXGT0c0K51q3jDg</td>\n",
       "      <td>0</td>\n",
       "      <td>2013-05-07 07:25:25</td>\n",
       "      <td>0</td>\n",
       "      <td>L2O_INwlrRuoX05KSjc4eg</td>\n",
       "      <td>5.0</td>\n",
       "      <td>This is definitely my favorite fast food sub s...</td>\n",
       "      <td>2</td>\n",
       "      <td>5vD2kmE25YBrbayKhykNxQ</td>\n",
       "    </tr>\n",
       "    <tr>\n",
       "      <th>6</th>\n",
       "      <td>Pthe4qk5xh4n-ef-9bvMSg</td>\n",
       "      <td>0</td>\n",
       "      <td>2015-11-05 23:11:05</td>\n",
       "      <td>0</td>\n",
       "      <td>ZayJ1zWyWgY9S_TRLT_y9Q</td>\n",
       "      <td>5.0</td>\n",
       "      <td>Really good place with simple decor, amazing f...</td>\n",
       "      <td>1</td>\n",
       "      <td>aq_ZxGHiri48TUXJlpRkCQ</td>\n",
       "    </tr>\n",
       "    <tr>\n",
       "      <th>7</th>\n",
       "      <td>FNCJpSn0tL9iqoY3JC73qw</td>\n",
       "      <td>0</td>\n",
       "      <td>2017-07-18 18:31:54</td>\n",
       "      <td>0</td>\n",
       "      <td>lpFIJYpsvDxyph-kPzZ6aA</td>\n",
       "      <td>5.0</td>\n",
       "      <td>Awesome office and staff, very professional an...</td>\n",
       "      <td>0</td>\n",
       "      <td>dsd-KNYKMpx6ma_sRWCSkQ</td>\n",
       "    </tr>\n",
       "    <tr>\n",
       "      <th>8</th>\n",
       "      <td>e_BiI4ej1CW1F0EyVLr-FQ</td>\n",
       "      <td>0</td>\n",
       "      <td>2015-02-16 06:48:47</td>\n",
       "      <td>0</td>\n",
       "      <td>JA-xnyHytKiOIHl_ztnK9Q</td>\n",
       "      <td>5.0</td>\n",
       "      <td>Most delicious authentic Italian I've had in t...</td>\n",
       "      <td>0</td>\n",
       "      <td>P6apihD4ASf1vpPxHODxAQ</td>\n",
       "    </tr>\n",
       "    <tr>\n",
       "      <th>9</th>\n",
       "      <td>Ws8V970-mQt2X9CwCuT5zw</td>\n",
       "      <td>1</td>\n",
       "      <td>2009-10-13 04:16:41</td>\n",
       "      <td>0</td>\n",
       "      <td>z4BCgTkfNtCu4XY5Lp97ww</td>\n",
       "      <td>4.0</td>\n",
       "      <td>I have been here twice. Very nice and laid bac...</td>\n",
       "      <td>3</td>\n",
       "      <td>jOERvhmK6_lo_XGUBPws_w</td>\n",
       "    </tr>\n",
       "  </tbody>\n",
       "</table>\n",
       "</div>"
      ],
      "text/plain": [
       "              business_id  cool                 date  funny  \\\n",
       "0  -MhfebM0QIsKt87iDN-FNw     0  2015-04-15 05:21:16      0   \n",
       "1  lbrU8StCq3yDfr-QMnGrmQ     0  2013-12-07 03:16:52      1   \n",
       "2  HQl28KMwrEKHqhFrrDqVNQ     0  2015-12-05 03:18:11      0   \n",
       "3  5JxlZaqCnk1MnbgRirs40Q     0  2011-05-27 05:30:52      0   \n",
       "4  IS4cv902ykd8wj1TR0N3-A     0  2017-01-14 21:56:57      0   \n",
       "5  nlxHRv1zXGT0c0K51q3jDg     0  2013-05-07 07:25:25      0   \n",
       "6  Pthe4qk5xh4n-ef-9bvMSg     0  2015-11-05 23:11:05      0   \n",
       "7  FNCJpSn0tL9iqoY3JC73qw     0  2017-07-18 18:31:54      0   \n",
       "8  e_BiI4ej1CW1F0EyVLr-FQ     0  2015-02-16 06:48:47      0   \n",
       "9  Ws8V970-mQt2X9CwCuT5zw     1  2009-10-13 04:16:41      0   \n",
       "\n",
       "                review_id  stars  \\\n",
       "0  xQY8N_XvtGbearJ5X4QryQ    2.0   \n",
       "1  UmFMZ8PyXZTY2QcwzsfQYA    1.0   \n",
       "2  LG2ZaYiOgpr2DK_90pYjNw    5.0   \n",
       "3  i6g_oA9Yf9Y31qt0wibXpw    1.0   \n",
       "4  6TdNDKywdbjoTkizeMce8A    4.0   \n",
       "5  L2O_INwlrRuoX05KSjc4eg    5.0   \n",
       "6  ZayJ1zWyWgY9S_TRLT_y9Q    5.0   \n",
       "7  lpFIJYpsvDxyph-kPzZ6aA    5.0   \n",
       "8  JA-xnyHytKiOIHl_ztnK9Q    5.0   \n",
       "9  z4BCgTkfNtCu4XY5Lp97ww    4.0   \n",
       "\n",
       "                                                text  useful  \\\n",
       "0  As someone who has worked with many museums, I...       5   \n",
       "1  I am actually horrified this place is still in...       1   \n",
       "2  I love Deagan's. I do. I really do. The atmosp...       1   \n",
       "3  Dismal, lukewarm, defrosted-tasting \"TexMex\" g...       0   \n",
       "4  Oh happy day, finally have a Canes near my cas...       0   \n",
       "5  This is definitely my favorite fast food sub s...       2   \n",
       "6  Really good place with simple decor, amazing f...       1   \n",
       "7  Awesome office and staff, very professional an...       0   \n",
       "8  Most delicious authentic Italian I've had in t...       0   \n",
       "9  I have been here twice. Very nice and laid bac...       3   \n",
       "\n",
       "                  user_id  \n",
       "0  OwjRMXRC0KyPrIlcjaXeFQ  \n",
       "1  nIJD_7ZXHq-FX8byPMOkMQ  \n",
       "2  V34qejxNsCbcgD8C0HVk-Q  \n",
       "3  ofKDkJKXSKZXu5xJNGiiBQ  \n",
       "4  UgMW8bLE0QMJDCkQ1Ax5Mg  \n",
       "5  5vD2kmE25YBrbayKhykNxQ  \n",
       "6  aq_ZxGHiri48TUXJlpRkCQ  \n",
       "7  dsd-KNYKMpx6ma_sRWCSkQ  \n",
       "8  P6apihD4ASf1vpPxHODxAQ  \n",
       "9  jOERvhmK6_lo_XGUBPws_w  "
      ]
     },
     "execution_count": 5,
     "metadata": {},
     "output_type": "execute_result"
    }
   ],
   "source": [
    "df_review.limit(10).toPandas()"
   ]
  },
  {
   "cell_type": "code",
   "execution_count": 6,
   "metadata": {},
   "outputs": [
    {
     "name": "stdout",
     "output_type": "stream",
     "text": [
      "root\n",
      " |-- business_id: string (nullable = true)\n",
      " |-- cool: long (nullable = true)\n",
      " |-- date: string (nullable = true)\n",
      " |-- funny: long (nullable = true)\n",
      " |-- review_id: string (nullable = true)\n",
      " |-- stars: double (nullable = true)\n",
      " |-- text: string (nullable = true)\n",
      " |-- useful: long (nullable = true)\n",
      " |-- user_id: string (nullable = true)\n",
      "\n"
     ]
    }
   ],
   "source": [
    "df_review.printSchema()"
   ]
  },
  {
   "cell_type": "markdown",
   "metadata": {},
   "source": [
    "We can see from the schema that most of the columns are the correct data type. The only column which needs to be converted is the date column."
   ]
  },
  {
   "cell_type": "code",
   "execution_count": 7,
   "metadata": {},
   "outputs": [
    {
     "data": {
      "text/plain": [
       "8021122"
      ]
     },
     "execution_count": 7,
     "metadata": {},
     "output_type": "execute_result"
    }
   ],
   "source": [
    "# How many rows are in the business table?\n",
    "df_review.count()"
   ]
  },
  {
   "cell_type": "markdown",
   "metadata": {},
   "source": [
    "Firstly, we must test how many non-null values are present when we cast the data in the date column to a timestamp."
   ]
  },
  {
   "cell_type": "code",
   "execution_count": null,
   "metadata": {},
   "outputs": [],
   "source": [
    "print(\"Date: \", df_review.filter(to_timestamp(df_review.date, 'yyyy-MM-dd HH:mm:ss').isNotNull()).count())"
   ]
  },
  {
   "cell_type": "markdown",
   "metadata": {},
   "source": [
    "All of the rows convert properly so we simply need to cast this column and then write the DataFrame as before."
   ]
  },
  {
   "cell_type": "code",
   "execution_count": 26,
   "metadata": {},
   "outputs": [],
   "source": [
    "df_review = df_review.withColumn(\"date\", to_timestamp(df_review.date, 'yyyy-MM-dd HH:mm:ss'))"
   ]
  },
  {
   "cell_type": "code",
   "execution_count": 27,
   "metadata": {},
   "outputs": [
    {
     "name": "stdout",
     "output_type": "stream",
     "text": [
      "root\n",
      " |-- business_id: string (nullable = true)\n",
      " |-- cool: long (nullable = true)\n",
      " |-- date: timestamp (nullable = true)\n",
      " |-- funny: long (nullable = true)\n",
      " |-- review_id: string (nullable = true)\n",
      " |-- stars: double (nullable = true)\n",
      " |-- text: string (nullable = true)\n",
      " |-- useful: long (nullable = true)\n",
      " |-- user_id: string (nullable = true)\n",
      "\n"
     ]
    }
   ],
   "source": [
    "df_review.printSchema()"
   ]
  },
  {
   "cell_type": "code",
   "execution_count": 28,
   "metadata": {},
   "outputs": [
    {
     "data": {
      "text/plain": [
       "8021122"
      ]
     },
     "execution_count": 28,
     "metadata": {},
     "output_type": "execute_result"
    }
   ],
   "source": [
    "df_review.count()"
   ]
  },
  {
   "cell_type": "code",
   "execution_count": 29,
   "metadata": {},
   "outputs": [],
   "source": [
    "# Writing the cleaned review DataFrame to our cloud storage bucket\n",
    "df_review.write.option(\"header\", \"true\").option(\"sep\", \",\").mode(\"overwrite\").csv(\"gs://ca4022_yelp_data/data_clean/review.csv\")"
   ]
  },
  {
   "cell_type": "markdown",
   "metadata": {},
   "source": [
    "## Cleaning the User Table"
   ]
  },
  {
   "cell_type": "code",
   "execution_count": 30,
   "metadata": {},
   "outputs": [],
   "source": [
    "df_user = spark.read.json(\"gs://ca4022_yelp_data/data_raw/yelp_academic_dataset_user.json\")"
   ]
  },
  {
   "cell_type": "code",
   "execution_count": 31,
   "metadata": {},
   "outputs": [
    {
     "data": {
      "text/html": [
       "<div>\n",
       "<style scoped>\n",
       "    .dataframe tbody tr th:only-of-type {\n",
       "        vertical-align: middle;\n",
       "    }\n",
       "\n",
       "    .dataframe tbody tr th {\n",
       "        vertical-align: top;\n",
       "    }\n",
       "\n",
       "    .dataframe thead th {\n",
       "        text-align: right;\n",
       "    }\n",
       "</style>\n",
       "<table border=\"1\" class=\"dataframe\">\n",
       "  <thead>\n",
       "    <tr style=\"text-align: right;\">\n",
       "      <th></th>\n",
       "      <th>average_stars</th>\n",
       "      <th>compliment_cool</th>\n",
       "      <th>compliment_cute</th>\n",
       "      <th>compliment_funny</th>\n",
       "      <th>compliment_hot</th>\n",
       "      <th>compliment_list</th>\n",
       "      <th>compliment_more</th>\n",
       "      <th>compliment_note</th>\n",
       "      <th>compliment_photos</th>\n",
       "      <th>compliment_plain</th>\n",
       "      <th>...</th>\n",
       "      <th>cool</th>\n",
       "      <th>elite</th>\n",
       "      <th>fans</th>\n",
       "      <th>friends</th>\n",
       "      <th>funny</th>\n",
       "      <th>name</th>\n",
       "      <th>review_count</th>\n",
       "      <th>useful</th>\n",
       "      <th>user_id</th>\n",
       "      <th>yelping_since</th>\n",
       "    </tr>\n",
       "  </thead>\n",
       "  <tbody>\n",
       "    <tr>\n",
       "      <th>0</th>\n",
       "      <td>3.57</td>\n",
       "      <td>22</td>\n",
       "      <td>0</td>\n",
       "      <td>22</td>\n",
       "      <td>3</td>\n",
       "      <td>1</td>\n",
       "      <td>2</td>\n",
       "      <td>11</td>\n",
       "      <td>0</td>\n",
       "      <td>15</td>\n",
       "      <td>...</td>\n",
       "      <td>227</td>\n",
       "      <td></td>\n",
       "      <td>14</td>\n",
       "      <td>oeMvJh94PiGQnx_6GlndPQ, wm1z1PaJKvHgSDRKfwhfDg...</td>\n",
       "      <td>225</td>\n",
       "      <td>Rafael</td>\n",
       "      <td>553</td>\n",
       "      <td>628</td>\n",
       "      <td>ntlvfPzc8eglqvk92iDIAw</td>\n",
       "      <td>2007-07-06 03:27:11</td>\n",
       "    </tr>\n",
       "    <tr>\n",
       "      <th>1</th>\n",
       "      <td>3.84</td>\n",
       "      <td>63</td>\n",
       "      <td>2</td>\n",
       "      <td>63</td>\n",
       "      <td>36</td>\n",
       "      <td>1</td>\n",
       "      <td>4</td>\n",
       "      <td>33</td>\n",
       "      <td>5</td>\n",
       "      <td>37</td>\n",
       "      <td>...</td>\n",
       "      <td>400</td>\n",
       "      <td>2008,2009,2010,2011,2012,2013</td>\n",
       "      <td>27</td>\n",
       "      <td>ly7EnE8leJmyqyePVYFlug, pRlR63iDytsnnniPb3AOug...</td>\n",
       "      <td>316</td>\n",
       "      <td>Michelle</td>\n",
       "      <td>564</td>\n",
       "      <td>790</td>\n",
       "      <td>FOBRPlBHa3WPHFB5qYDlVg</td>\n",
       "      <td>2008-04-28 01:29:25</td>\n",
       "    </tr>\n",
       "    <tr>\n",
       "      <th>2</th>\n",
       "      <td>3.44</td>\n",
       "      <td>17</td>\n",
       "      <td>1</td>\n",
       "      <td>17</td>\n",
       "      <td>9</td>\n",
       "      <td>0</td>\n",
       "      <td>6</td>\n",
       "      <td>3</td>\n",
       "      <td>1</td>\n",
       "      <td>7</td>\n",
       "      <td>...</td>\n",
       "      <td>103</td>\n",
       "      <td>2010</td>\n",
       "      <td>5</td>\n",
       "      <td>Uwlk0txjQBPw_JhHsQnyeg, Ybxr1tSCkv3lYA0I1qmnPQ...</td>\n",
       "      <td>125</td>\n",
       "      <td>Martin</td>\n",
       "      <td>60</td>\n",
       "      <td>151</td>\n",
       "      <td>zZUnPeh2hEp0WydbAZEOOg</td>\n",
       "      <td>2008-08-28 23:40:05</td>\n",
       "    </tr>\n",
       "    <tr>\n",
       "      <th>3</th>\n",
       "      <td>3.08</td>\n",
       "      <td>7</td>\n",
       "      <td>0</td>\n",
       "      <td>7</td>\n",
       "      <td>2</td>\n",
       "      <td>0</td>\n",
       "      <td>1</td>\n",
       "      <td>7</td>\n",
       "      <td>0</td>\n",
       "      <td>14</td>\n",
       "      <td>...</td>\n",
       "      <td>84</td>\n",
       "      <td>2009</td>\n",
       "      <td>6</td>\n",
       "      <td>iog3Nyg1i4jeumiTVG_BSA, M92xWY2Vr9w0xoH8bPplfQ...</td>\n",
       "      <td>160</td>\n",
       "      <td>John</td>\n",
       "      <td>206</td>\n",
       "      <td>233</td>\n",
       "      <td>QaELAmRcDc5TfJEylaaP8g</td>\n",
       "      <td>2008-09-20 00:08:14</td>\n",
       "    </tr>\n",
       "    <tr>\n",
       "      <th>4</th>\n",
       "      <td>4.37</td>\n",
       "      <td>31</td>\n",
       "      <td>1</td>\n",
       "      <td>31</td>\n",
       "      <td>8</td>\n",
       "      <td>1</td>\n",
       "      <td>9</td>\n",
       "      <td>22</td>\n",
       "      <td>31</td>\n",
       "      <td>28</td>\n",
       "      <td>...</td>\n",
       "      <td>512</td>\n",
       "      <td>2009,2010,2011,2012,2014,2015,2016,2017,2018</td>\n",
       "      <td>78</td>\n",
       "      <td>3W3ZMSthojCUirKEqAwGNw, eTIbuu23j9tOgmIa9POyLQ...</td>\n",
       "      <td>400</td>\n",
       "      <td>Anne</td>\n",
       "      <td>485</td>\n",
       "      <td>1265</td>\n",
       "      <td>xvu8G900tezTzbbfqmTKvA</td>\n",
       "      <td>2008-08-09 00:30:27</td>\n",
       "    </tr>\n",
       "    <tr>\n",
       "      <th>5</th>\n",
       "      <td>2.88</td>\n",
       "      <td>32</td>\n",
       "      <td>7</td>\n",
       "      <td>32</td>\n",
       "      <td>24</td>\n",
       "      <td>2</td>\n",
       "      <td>16</td>\n",
       "      <td>60</td>\n",
       "      <td>9</td>\n",
       "      <td>36</td>\n",
       "      <td>...</td>\n",
       "      <td>155</td>\n",
       "      <td>2007</td>\n",
       "      <td>15</td>\n",
       "      <td>E-fXXmALnZTPmzzL6rV4cQ, L2g6vS1GDfqLEpiDOFfCkA...</td>\n",
       "      <td>192</td>\n",
       "      <td>Steve</td>\n",
       "      <td>186</td>\n",
       "      <td>642</td>\n",
       "      <td>z5_82komKV3mI4ASGe2-FQ</td>\n",
       "      <td>2007-02-27 07:09:40</td>\n",
       "    </tr>\n",
       "    <tr>\n",
       "      <th>6</th>\n",
       "      <td>4.00</td>\n",
       "      <td>0</td>\n",
       "      <td>0</td>\n",
       "      <td>0</td>\n",
       "      <td>0</td>\n",
       "      <td>0</td>\n",
       "      <td>0</td>\n",
       "      <td>2</td>\n",
       "      <td>1</td>\n",
       "      <td>3</td>\n",
       "      <td>...</td>\n",
       "      <td>6</td>\n",
       "      <td></td>\n",
       "      <td>0</td>\n",
       "      <td>1pKOc55fFx09J5t2rPzTxw, HYpE14yYEKSgu3VNVzObHA...</td>\n",
       "      <td>4</td>\n",
       "      <td>Stuart</td>\n",
       "      <td>12</td>\n",
       "      <td>29</td>\n",
       "      <td>ttumcu6hWshk_EJVWrduDg</td>\n",
       "      <td>2010-05-12 16:30:08</td>\n",
       "    </tr>\n",
       "    <tr>\n",
       "      <th>7</th>\n",
       "      <td>3.63</td>\n",
       "      <td>623</td>\n",
       "      <td>35</td>\n",
       "      <td>623</td>\n",
       "      <td>483</td>\n",
       "      <td>24</td>\n",
       "      <td>81</td>\n",
       "      <td>193</td>\n",
       "      <td>172</td>\n",
       "      <td>541</td>\n",
       "      <td>...</td>\n",
       "      <td>2878</td>\n",
       "      <td>2011,2012,2013,2014,2015,2016,2017,2018</td>\n",
       "      <td>137</td>\n",
       "      <td>c-Dja5bexzEWBufNsHfRrQ, 02HJNyOzzYXvEKVApJb8GQ...</td>\n",
       "      <td>2446</td>\n",
       "      <td>Jennifer</td>\n",
       "      <td>822</td>\n",
       "      <td>4127</td>\n",
       "      <td>f4_MRNHvN-yRn7EA8YWRxg</td>\n",
       "      <td>2011-01-17 00:18:23</td>\n",
       "    </tr>\n",
       "    <tr>\n",
       "      <th>8</th>\n",
       "      <td>3.75</td>\n",
       "      <td>0</td>\n",
       "      <td>0</td>\n",
       "      <td>0</td>\n",
       "      <td>0</td>\n",
       "      <td>0</td>\n",
       "      <td>3</td>\n",
       "      <td>3</td>\n",
       "      <td>1</td>\n",
       "      <td>4</td>\n",
       "      <td>...</td>\n",
       "      <td>34</td>\n",
       "      <td></td>\n",
       "      <td>4</td>\n",
       "      <td>YwaKGmRNnSa3R3N4Hf9jLw, v9YpDzYkJarRbzvVIY-63g...</td>\n",
       "      <td>21</td>\n",
       "      <td>Justin</td>\n",
       "      <td>14</td>\n",
       "      <td>68</td>\n",
       "      <td>UYACF30806j2mfbB5vdmJA</td>\n",
       "      <td>2007-07-24 23:55:21</td>\n",
       "    </tr>\n",
       "    <tr>\n",
       "      <th>9</th>\n",
       "      <td>4.10</td>\n",
       "      <td>37</td>\n",
       "      <td>5</td>\n",
       "      <td>37</td>\n",
       "      <td>39</td>\n",
       "      <td>3</td>\n",
       "      <td>5</td>\n",
       "      <td>18</td>\n",
       "      <td>5</td>\n",
       "      <td>24</td>\n",
       "      <td>...</td>\n",
       "      <td>426</td>\n",
       "      <td>2008,2009</td>\n",
       "      <td>31</td>\n",
       "      <td>tnfVwTpuPlR6W2xEAMiqsg, Bd_16T8Dva27lF5LIrUmcQ...</td>\n",
       "      <td>372</td>\n",
       "      <td>Claire</td>\n",
       "      <td>218</td>\n",
       "      <td>587</td>\n",
       "      <td>QG13XBbgHWydzThRBGJtyw</td>\n",
       "      <td>2007-06-04 00:14:10</td>\n",
       "    </tr>\n",
       "  </tbody>\n",
       "</table>\n",
       "<p>10 rows × 22 columns</p>\n",
       "</div>"
      ],
      "text/plain": [
       "   average_stars  compliment_cool  compliment_cute  compliment_funny  \\\n",
       "0           3.57               22                0                22   \n",
       "1           3.84               63                2                63   \n",
       "2           3.44               17                1                17   \n",
       "3           3.08                7                0                 7   \n",
       "4           4.37               31                1                31   \n",
       "5           2.88               32                7                32   \n",
       "6           4.00                0                0                 0   \n",
       "7           3.63              623               35               623   \n",
       "8           3.75                0                0                 0   \n",
       "9           4.10               37                5                37   \n",
       "\n",
       "   compliment_hot  compliment_list  compliment_more  compliment_note  \\\n",
       "0               3                1                2               11   \n",
       "1              36                1                4               33   \n",
       "2               9                0                6                3   \n",
       "3               2                0                1                7   \n",
       "4               8                1                9               22   \n",
       "5              24                2               16               60   \n",
       "6               0                0                0                2   \n",
       "7             483               24               81              193   \n",
       "8               0                0                3                3   \n",
       "9              39                3                5               18   \n",
       "\n",
       "   compliment_photos  compliment_plain  ...  cool  \\\n",
       "0                  0                15  ...   227   \n",
       "1                  5                37  ...   400   \n",
       "2                  1                 7  ...   103   \n",
       "3                  0                14  ...    84   \n",
       "4                 31                28  ...   512   \n",
       "5                  9                36  ...   155   \n",
       "6                  1                 3  ...     6   \n",
       "7                172               541  ...  2878   \n",
       "8                  1                 4  ...    34   \n",
       "9                  5                24  ...   426   \n",
       "\n",
       "                                          elite  fans  \\\n",
       "0                                                  14   \n",
       "1                 2008,2009,2010,2011,2012,2013    27   \n",
       "2                                          2010     5   \n",
       "3                                          2009     6   \n",
       "4  2009,2010,2011,2012,2014,2015,2016,2017,2018    78   \n",
       "5                                          2007    15   \n",
       "6                                                   0   \n",
       "7       2011,2012,2013,2014,2015,2016,2017,2018   137   \n",
       "8                                                   4   \n",
       "9                                     2008,2009    31   \n",
       "\n",
       "                                             friends  funny      name  \\\n",
       "0  oeMvJh94PiGQnx_6GlndPQ, wm1z1PaJKvHgSDRKfwhfDg...    225    Rafael   \n",
       "1  ly7EnE8leJmyqyePVYFlug, pRlR63iDytsnnniPb3AOug...    316  Michelle   \n",
       "2  Uwlk0txjQBPw_JhHsQnyeg, Ybxr1tSCkv3lYA0I1qmnPQ...    125    Martin   \n",
       "3  iog3Nyg1i4jeumiTVG_BSA, M92xWY2Vr9w0xoH8bPplfQ...    160      John   \n",
       "4  3W3ZMSthojCUirKEqAwGNw, eTIbuu23j9tOgmIa9POyLQ...    400      Anne   \n",
       "5  E-fXXmALnZTPmzzL6rV4cQ, L2g6vS1GDfqLEpiDOFfCkA...    192     Steve   \n",
       "6  1pKOc55fFx09J5t2rPzTxw, HYpE14yYEKSgu3VNVzObHA...      4    Stuart   \n",
       "7  c-Dja5bexzEWBufNsHfRrQ, 02HJNyOzzYXvEKVApJb8GQ...   2446  Jennifer   \n",
       "8  YwaKGmRNnSa3R3N4Hf9jLw, v9YpDzYkJarRbzvVIY-63g...     21    Justin   \n",
       "9  tnfVwTpuPlR6W2xEAMiqsg, Bd_16T8Dva27lF5LIrUmcQ...    372    Claire   \n",
       "\n",
       "   review_count useful                 user_id        yelping_since  \n",
       "0           553    628  ntlvfPzc8eglqvk92iDIAw  2007-07-06 03:27:11  \n",
       "1           564    790  FOBRPlBHa3WPHFB5qYDlVg  2008-04-28 01:29:25  \n",
       "2            60    151  zZUnPeh2hEp0WydbAZEOOg  2008-08-28 23:40:05  \n",
       "3           206    233  QaELAmRcDc5TfJEylaaP8g  2008-09-20 00:08:14  \n",
       "4           485   1265  xvu8G900tezTzbbfqmTKvA  2008-08-09 00:30:27  \n",
       "5           186    642  z5_82komKV3mI4ASGe2-FQ  2007-02-27 07:09:40  \n",
       "6            12     29  ttumcu6hWshk_EJVWrduDg  2010-05-12 16:30:08  \n",
       "7           822   4127  f4_MRNHvN-yRn7EA8YWRxg  2011-01-17 00:18:23  \n",
       "8            14     68  UYACF30806j2mfbB5vdmJA  2007-07-24 23:55:21  \n",
       "9           218    587  QG13XBbgHWydzThRBGJtyw  2007-06-04 00:14:10  \n",
       "\n",
       "[10 rows x 22 columns]"
      ]
     },
     "execution_count": 31,
     "metadata": {},
     "output_type": "execute_result"
    }
   ],
   "source": [
    "df_user.limit(10).toPandas()"
   ]
  },
  {
   "cell_type": "markdown",
   "metadata": {},
   "source": [
    "By quickly looking at a small sample of the data, we can see that it appears relatively clean but more analysis is needed to confirm this. Let's check the schema of the data..."
   ]
  },
  {
   "cell_type": "code",
   "execution_count": 32,
   "metadata": {},
   "outputs": [
    {
     "name": "stdout",
     "output_type": "stream",
     "text": [
      "root\n",
      " |-- average_stars: double (nullable = true)\n",
      " |-- compliment_cool: long (nullable = true)\n",
      " |-- compliment_cute: long (nullable = true)\n",
      " |-- compliment_funny: long (nullable = true)\n",
      " |-- compliment_hot: long (nullable = true)\n",
      " |-- compliment_list: long (nullable = true)\n",
      " |-- compliment_more: long (nullable = true)\n",
      " |-- compliment_note: long (nullable = true)\n",
      " |-- compliment_photos: long (nullable = true)\n",
      " |-- compliment_plain: long (nullable = true)\n",
      " |-- compliment_profile: long (nullable = true)\n",
      " |-- compliment_writer: long (nullable = true)\n",
      " |-- cool: long (nullable = true)\n",
      " |-- elite: string (nullable = true)\n",
      " |-- fans: long (nullable = true)\n",
      " |-- friends: string (nullable = true)\n",
      " |-- funny: long (nullable = true)\n",
      " |-- name: string (nullable = true)\n",
      " |-- review_count: long (nullable = true)\n",
      " |-- useful: long (nullable = true)\n",
      " |-- user_id: string (nullable = true)\n",
      " |-- yelping_since: string (nullable = true)\n",
      "\n"
     ]
    }
   ],
   "source": [
    "df_user.printSchema()"
   ]
  },
  {
   "cell_type": "markdown",
   "metadata": {},
   "source": [
    "We can see from the schema that most of the columns are of the correct type and the only one which really needs to be converted is the *yelping_since* column as it is a timestamp."
   ]
  },
  {
   "cell_type": "code",
   "execution_count": 33,
   "metadata": {},
   "outputs": [
    {
     "data": {
      "text/plain": [
       "1968703"
      ]
     },
     "execution_count": 33,
     "metadata": {},
     "output_type": "execute_result"
    }
   ],
   "source": [
    "# How many rows are in the business table?\n",
    "df_user.count()"
   ]
  },
  {
   "cell_type": "markdown",
   "metadata": {},
   "source": [
    "To determine if we can convert the data in the *yelping_since* column..."
   ]
  },
  {
   "cell_type": "code",
   "execution_count": 34,
   "metadata": {},
   "outputs": [
    {
     "name": "stdout",
     "output_type": "stream",
     "text": [
      "Yelping Since:  1968703\n"
     ]
    }
   ],
   "source": [
    "print(\"Yelping Since: \", df_user.filter(to_timestamp(df_user.yelping_since, 'yyyy-MM-dd HH:mm:ss').isNotNull()).count())"
   ]
  },
  {
   "cell_type": "markdown",
   "metadata": {},
   "source": [
    "All of the rows convert correctly so we just need to cast this column and write to a CSV file."
   ]
  },
  {
   "cell_type": "code",
   "execution_count": 35,
   "metadata": {},
   "outputs": [],
   "source": [
    "df_user = df_user.withColumn(\"yelping_since\", to_timestamp(df_user.yelping_since, 'yyyy-MM-dd HH:mm:ss'))"
   ]
  },
  {
   "cell_type": "code",
   "execution_count": 36,
   "metadata": {},
   "outputs": [
    {
     "name": "stdout",
     "output_type": "stream",
     "text": [
      "root\n",
      " |-- average_stars: double (nullable = true)\n",
      " |-- compliment_cool: long (nullable = true)\n",
      " |-- compliment_cute: long (nullable = true)\n",
      " |-- compliment_funny: long (nullable = true)\n",
      " |-- compliment_hot: long (nullable = true)\n",
      " |-- compliment_list: long (nullable = true)\n",
      " |-- compliment_more: long (nullable = true)\n",
      " |-- compliment_note: long (nullable = true)\n",
      " |-- compliment_photos: long (nullable = true)\n",
      " |-- compliment_plain: long (nullable = true)\n",
      " |-- compliment_profile: long (nullable = true)\n",
      " |-- compliment_writer: long (nullable = true)\n",
      " |-- cool: long (nullable = true)\n",
      " |-- elite: string (nullable = true)\n",
      " |-- fans: long (nullable = true)\n",
      " |-- friends: string (nullable = true)\n",
      " |-- funny: long (nullable = true)\n",
      " |-- name: string (nullable = true)\n",
      " |-- review_count: long (nullable = true)\n",
      " |-- useful: long (nullable = true)\n",
      " |-- user_id: string (nullable = true)\n",
      " |-- yelping_since: timestamp (nullable = true)\n",
      "\n"
     ]
    }
   ],
   "source": [
    "df_user.printSchema()"
   ]
  },
  {
   "cell_type": "code",
   "execution_count": 37,
   "metadata": {},
   "outputs": [
    {
     "data": {
      "text/plain": [
       "1968703"
      ]
     },
     "execution_count": 37,
     "metadata": {},
     "output_type": "execute_result"
    }
   ],
   "source": [
    "df_user.count()"
   ]
  },
  {
   "cell_type": "code",
   "execution_count": 38,
   "metadata": {},
   "outputs": [],
   "source": [
    "# Writing the cleaned user DataFrame to our cloud storage bucket\n",
    "df_user.write.option(\"header\", \"true\").option(\"sep\", \",\").mode(\"overwrite\").csv(\"gs://ca4022_yelp_data/data_clean/user.csv\")"
   ]
  }
 ],
 "metadata": {
  "kernelspec": {
   "display_name": "Python 3",
   "language": "python",
   "name": "python3"
  },
  "language_info": {
   "codemirror_mode": {
    "name": "ipython",
    "version": 3
   },
   "file_extension": ".py",
   "mimetype": "text/x-python",
   "name": "python",
   "nbconvert_exporter": "python",
   "pygments_lexer": "ipython3",
   "version": "3.7.4"
  }
 },
 "nbformat": 4,
 "nbformat_minor": 2
}