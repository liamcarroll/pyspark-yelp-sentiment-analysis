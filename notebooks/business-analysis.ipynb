{
 "cells": [
  {
   "cell_type": "code",
   "execution_count": 1,
   "metadata": {},
   "outputs": [],
   "source": [
    "from pyspark import SparkContext\n",
    "from pyspark.ml.recommendation import ALS\n",
    "from pyspark.sql import SparkSession ,Row\n",
    "from pyspark.sql.functions import col\n",
    "from pyspark.sql import SQLContext\n",
    "from pyspark.ml.feature import StringIndexer\n",
    "from pyspark.ml import Pipeline\n",
    "from pyspark.ml.evaluation import RegressionEvaluator\n",
    "from pyspark.sql.types import StructType,StructField,IntegerType\n",
    "import matplotlib.pyplot as plt\n",
    "%matplotlib inline\n",
    "import pandas as pd\n",
    "import numpy as np"
   ]
  },
  {
   "cell_type": "code",
   "execution_count": 2,
   "metadata": {},
   "outputs": [],
   "source": [
    "from pyspark.sql import SparkSession\n",
    "\n",
    "spark = SparkSession.builder \\\n",
    "  .appName('Yelp! Business Analysis')\\\n",
    "  .getOrCreate()"
   ]
  },
  {
   "cell_type": "code",
   "execution_count": 3,
   "metadata": {},
   "outputs": [],
   "source": [
    "# Directory where the raw data is stored\n",
    "data_folder = \"gs://ca4022_yelp_data/data_raw/\"\n",
    "\n",
    "df_bus = spark.read.csv(data_folder + \"business.csv\", header=True, sep= \",\", inferSchema=True)"
   ]
  },
  {
   "cell_type": "code",
   "execution_count": 4,
   "metadata": {},
   "outputs": [
    {
     "data": {
      "text/plain": [
       "Row(business_id='f9NumwFMBDn751xgFiRbNA', name='The Range At Lake Norman', address='10913 Bailey Rd', city='Cornelius', state='NC', postal_code='28031', latitude='35.4627242', longitude='-80.8526119', stars='3.5', review_count=36.0, is_open=1.0, categories='Active Life, Gun/Rifle Ranges, Guns & Ammo, Shopping')"
      ]
     },
     "execution_count": 4,
     "metadata": {},
     "output_type": "execute_result"
    }
   ],
   "source": [
    "df_bus.head()"
   ]
  },
  {
   "cell_type": "code",
   "execution_count": 5,
   "metadata": {},
   "outputs": [
    {
     "data": {
      "text/html": [
       "<div>\n",
       "<style scoped>\n",
       "    .dataframe tbody tr th:only-of-type {\n",
       "        vertical-align: middle;\n",
       "    }\n",
       "\n",
       "    .dataframe tbody tr th {\n",
       "        vertical-align: top;\n",
       "    }\n",
       "\n",
       "    .dataframe thead th {\n",
       "        text-align: right;\n",
       "    }\n",
       "</style>\n",
       "<table border=\"1\" class=\"dataframe\">\n",
       "  <thead>\n",
       "    <tr style=\"text-align: right;\">\n",
       "      <th></th>\n",
       "      <th>business_id</th>\n",
       "      <th>name</th>\n",
       "      <th>address</th>\n",
       "      <th>city</th>\n",
       "      <th>state</th>\n",
       "      <th>postal_code</th>\n",
       "      <th>latitude</th>\n",
       "      <th>longitude</th>\n",
       "      <th>stars</th>\n",
       "      <th>review_count</th>\n",
       "      <th>is_open</th>\n",
       "      <th>categories</th>\n",
       "    </tr>\n",
       "  </thead>\n",
       "  <tbody>\n",
       "    <tr>\n",
       "      <th>0</th>\n",
       "      <td>f9NumwFMBDn751xgFiRbNA</td>\n",
       "      <td>The Range At Lake Norman</td>\n",
       "      <td>10913 Bailey Rd</td>\n",
       "      <td>Cornelius</td>\n",
       "      <td>NC</td>\n",
       "      <td>28031</td>\n",
       "      <td>35.4627242</td>\n",
       "      <td>-80.8526119</td>\n",
       "      <td>3.5</td>\n",
       "      <td>36.0</td>\n",
       "      <td>1.0</td>\n",
       "      <td>Active Life, Gun/Rifle Ranges, Guns &amp; Ammo, Sh...</td>\n",
       "    </tr>\n",
       "    <tr>\n",
       "      <th>1</th>\n",
       "      <td>Yzvjg0SayhoZgCljUJRF9Q</td>\n",
       "      <td>Carlos Santo, NMD</td>\n",
       "      <td>8880 E Via Linda, Ste 107</td>\n",
       "      <td>Scottsdale</td>\n",
       "      <td>AZ</td>\n",
       "      <td>85258</td>\n",
       "      <td>33.5694041</td>\n",
       "      <td>-111.8902637</td>\n",
       "      <td>5.0</td>\n",
       "      <td>4.0</td>\n",
       "      <td>1.0</td>\n",
       "      <td>Health &amp; Medical, Fitness &amp; Instruction, Yoga,...</td>\n",
       "    </tr>\n",
       "    <tr>\n",
       "      <th>2</th>\n",
       "      <td>XNoUzKckATkOD1hP6vghZg</td>\n",
       "      <td>Felinus</td>\n",
       "      <td>3554 Rue Notre-Dame O</td>\n",
       "      <td>Montreal</td>\n",
       "      <td>QC</td>\n",
       "      <td>H4C 1P4</td>\n",
       "      <td>45.479984</td>\n",
       "      <td>-73.58007</td>\n",
       "      <td>5.0</td>\n",
       "      <td>5.0</td>\n",
       "      <td>1.0</td>\n",
       "      <td>Pets, Pet Services, Pet Groomers</td>\n",
       "    </tr>\n",
       "    <tr>\n",
       "      <th>3</th>\n",
       "      <td>6OAZjbxqM5ol29BuHsil3w</td>\n",
       "      <td>Nevada House of Hose</td>\n",
       "      <td>1015 Sharp Cir</td>\n",
       "      <td>North Las Vegas</td>\n",
       "      <td>NV</td>\n",
       "      <td>89030</td>\n",
       "      <td>36.2197281</td>\n",
       "      <td>-115.1277255</td>\n",
       "      <td>2.5</td>\n",
       "      <td>3.0</td>\n",
       "      <td>0.0</td>\n",
       "      <td>Hardware Stores, Home Services, Building Suppl...</td>\n",
       "    </tr>\n",
       "    <tr>\n",
       "      <th>4</th>\n",
       "      <td>51M2Kk903DFYI6gnB5I6SQ</td>\n",
       "      <td>USE MY GUY SERVICES LLC</td>\n",
       "      <td>4827 E Downing Cir</td>\n",
       "      <td>Mesa</td>\n",
       "      <td>AZ</td>\n",
       "      <td>85205</td>\n",
       "      <td>33.4280652</td>\n",
       "      <td>-111.7266485</td>\n",
       "      <td>4.5</td>\n",
       "      <td>26.0</td>\n",
       "      <td>1.0</td>\n",
       "      <td>Home Services, Plumbing, Electricians, Handyma...</td>\n",
       "    </tr>\n",
       "  </tbody>\n",
       "</table>\n",
       "</div>"
      ],
      "text/plain": [
       "              business_id                      name  \\\n",
       "0  f9NumwFMBDn751xgFiRbNA  The Range At Lake Norman   \n",
       "1  Yzvjg0SayhoZgCljUJRF9Q         Carlos Santo, NMD   \n",
       "2  XNoUzKckATkOD1hP6vghZg                   Felinus   \n",
       "3  6OAZjbxqM5ol29BuHsil3w      Nevada House of Hose   \n",
       "4  51M2Kk903DFYI6gnB5I6SQ   USE MY GUY SERVICES LLC   \n",
       "\n",
       "                     address             city state postal_code    latitude  \\\n",
       "0            10913 Bailey Rd        Cornelius    NC       28031  35.4627242   \n",
       "1  8880 E Via Linda, Ste 107       Scottsdale    AZ       85258  33.5694041   \n",
       "2      3554 Rue Notre-Dame O         Montreal    QC     H4C 1P4   45.479984   \n",
       "3             1015 Sharp Cir  North Las Vegas    NV       89030  36.2197281   \n",
       "4         4827 E Downing Cir             Mesa    AZ       85205  33.4280652   \n",
       "\n",
       "      longitude stars  review_count  is_open  \\\n",
       "0   -80.8526119   3.5          36.0      1.0   \n",
       "1  -111.8902637   5.0           4.0      1.0   \n",
       "2     -73.58007   5.0           5.0      1.0   \n",
       "3  -115.1277255   2.5           3.0      0.0   \n",
       "4  -111.7266485   4.5          26.0      1.0   \n",
       "\n",
       "                                          categories  \n",
       "0  Active Life, Gun/Rifle Ranges, Guns & Ammo, Sh...  \n",
       "1  Health & Medical, Fitness & Instruction, Yoga,...  \n",
       "2                   Pets, Pet Services, Pet Groomers  \n",
       "3  Hardware Stores, Home Services, Building Suppl...  \n",
       "4  Home Services, Plumbing, Electricians, Handyma...  "
      ]
     },
     "execution_count": 5,
     "metadata": {},
     "output_type": "execute_result"
    }
   ],
   "source": [
    "#way of easily displaying first 5 rows\n",
    "df_bus1 = df_bus.toPandas()\n",
    "df_bus.limit(5).toPandas()"
   ]
  },
  {
   "cell_type": "code",
   "execution_count": 6,
   "metadata": {},
   "outputs": [
    {
     "name": "stdout",
     "output_type": "stream",
     "text": [
      "Number of Distinct Business IDs 209393\n",
      "Number of Business IDs 209393\n"
     ]
    }
   ],
   "source": [
    "#are all business Id's unique?\n",
    "print(\"Number of Distinct Business IDs\", df_bus.select(\"business_id\").distinct().count())\n",
    "print(\"Number of Business IDs\", df_bus.select(\"business_id\").count())"
   ]
  },
  {
   "cell_type": "markdown",
   "metadata": {},
   "source": [
    "As we can see there is no need to clean the dataset as all businesses are unique"
   ]
  },
  {
   "cell_type": "markdown",
   "metadata": {},
   "source": [
    "### Cities and States with the most businesses"
   ]
  },
  {
   "cell_type": "code",
   "execution_count": 7,
   "metadata": {},
   "outputs": [
    {
     "name": "stdout",
     "output_type": "stream",
     "text": [
      "+---------------+-----+\n",
      "|city           |count|\n",
      "+---------------+-----+\n",
      "|Las Vegas      |31631|\n",
      "|Toronto        |20366|\n",
      "|Phoenix        |20170|\n",
      "|Charlotte      |10422|\n",
      "|Scottsdale     |9342 |\n",
      "|Calgary        |8377 |\n",
      "|Pittsburgh     |7630 |\n",
      "|Montréal       |6979 |\n",
      "|Mesa           |6577 |\n",
      "|Henderson      |5272 |\n",
      "|Tempe          |4797 |\n",
      "|Chandler       |4580 |\n",
      "|Cleveland      |3857 |\n",
      "|Glendale       |3824 |\n",
      "|Gilbert        |3745 |\n",
      "|Madison        |3685 |\n",
      "|Mississauga    |3518 |\n",
      "|Peoria         |2080 |\n",
      "|Markham        |1963 |\n",
      "|North Las Vegas|1677 |\n",
      "+---------------+-----+\n",
      "only showing top 20 rows\n",
      "\n"
     ]
    }
   ],
   "source": [
    "from pyspark.sql.types import IntegerType\n",
    "#df_bus.groupBy('city').count().orderBy('count'.desc()).show()\n",
    "df_bus.groupBy('city').count().sort(col(\"count\").desc()).show(truncate=False)"
   ]
  },
  {
   "cell_type": "code",
   "execution_count": 8,
   "metadata": {},
   "outputs": [
    {
     "name": "stdout",
     "output_type": "stream",
     "text": [
      "+-----+-----+\n",
      "|state|count|\n",
      "+-----+-----+\n",
      "|AZ   |60802|\n",
      "|NV   |39084|\n",
      "|ON   |36626|\n",
      "|OH   |16392|\n",
      "|NC   |16218|\n",
      "|PA   |12376|\n",
      "|QC   |10233|\n",
      "|AB   |8682 |\n",
      "|WI   |5525 |\n",
      "|IL   |2034 |\n",
      "|SC   |1328 |\n",
      "|CA   |23   |\n",
      "|NY   |22   |\n",
      "|TX   |6    |\n",
      "|WA   |5    |\n",
      "|AL   |3    |\n",
      "|GA   |3    |\n",
      "|FL   |3    |\n",
      "|MI   |2    |\n",
      "|NE   |2    |\n",
      "+-----+-----+\n",
      "only showing top 20 rows\n",
      "\n"
     ]
    }
   ],
   "source": [
    "df_bus.groupBy('state').count().sort(col(\"count\").desc()).show(truncate=False)"
   ]
  },
  {
   "cell_type": "markdown",
   "metadata": {},
   "source": [
    "### List of the Most Reviewed Businesses"
   ]
  },
  {
   "cell_type": "code",
   "execution_count": 24,
   "metadata": {},
   "outputs": [
    {
     "name": "stdout",
     "output_type": "stream",
     "text": [
      "+--------------------------------+------------+---------+-----+\n",
      "|name                            |review_count|city     |stars|\n",
      "+--------------------------------+------------+---------+-----+\n",
      "|Bacchanal Buffet                |10129.0     |Las Vegas|4.0  |\n",
      "|Mon Ami Gabi                    |9264.0      |Las Vegas|4.0  |\n",
      "|Wicked Spoon                    |7383.0      |Las Vegas|3.5  |\n",
      "|Hash House A Go Go              |6751.0      |Las Vegas|4.0  |\n",
      "|Gordon Ramsay BurGR             |5494.0      |Las Vegas|4.0  |\n",
      "|Earl of Sandwich                |5232.0      |Las Vegas|4.5  |\n",
      "|Yardbird Southern Table & Bar   |4828.0      |Las Vegas|4.5  |\n",
      "|The Buffet At Wynn              |4803.0      |Las Vegas|3.5  |\n",
      "|Secret Pizza                    |4803.0      |Las Vegas|4.0  |\n",
      "|The Cosmopolitan of Las Vegas   |4740.0      |Las Vegas|4.0  |\n",
      "|Gordon Ramsay Hell's Kitchen    |4672.0      |Las Vegas|4.5  |\n",
      "|Luxor Hotel and Casino Las Vegas|4670.0      |Las Vegas|2.5  |\n",
      "|The Buffet at Bellagio          |4628.0      |Las Vegas|3.5  |\n",
      "|ARIA Resort & Casino            |4580.0      |Las Vegas|3.5  |\n",
      "|MGM Grand Hotel                 |4424.0      |Las Vegas|3.0  |\n",
      "|Nacho Daddy                     |4276.0      |Las Vegas|4.5  |\n",
      "|Bouchon                         |4138.0      |Las Vegas|4.0  |\n",
      "|Gordon Ramsay Steak             |4095.0      |Las Vegas|4.0  |\n",
      "|Egg & I                         |4048.0      |Las Vegas|4.5  |\n",
      "|Gordon Ramsay Pub & Grill       |4019.0      |Las Vegas|3.5  |\n",
      "+--------------------------------+------------+---------+-----+\n",
      "only showing top 20 rows\n",
      "\n"
     ]
    }
   ],
   "source": [
    "from pyspark.sql.functions import col\n",
    "\n",
    "df_bus_clean[['name', 'review_count', 'city', 'stars']].sort(col(\"review_count\").desc()).show(truncate=False)"
   ]
  },
  {
   "cell_type": "markdown",
   "metadata": {},
   "source": [
    "19 of the top 20 most reviewed businesses reside in Las Vegas. Las Vegas is the City with the most businesses in this dataset so this makes sense."
   ]
  },
  {
   "cell_type": "markdown",
   "metadata": {},
   "source": [
    "### Which Cities Have the Most Businesses?"
   ]
  },
  {
   "cell_type": "code",
   "execution_count": 25,
   "metadata": {},
   "outputs": [
    {
     "data": {
      "text/plain": [
       "Text(0.5, 1.0, 'Top 20 Cities with Highest Number of Businesses')"
      ]
     },
     "execution_count": 25,
     "metadata": {},
     "output_type": "execute_result"
    },
    {
     "data": {
      "image/png": "[encoded data removed]",
      "text/plain": [
       "<Figure size 432x288 with 1 Axes>"
      ]
     },
     "metadata": {
      "needs_background": "light"
     },
     "output_type": "display_data"
    }
   ],
   "source": [
    "import seaborn as sns\n",
    "\n",
    "ax = sns.barplot(x = 'city', y= 'count', data = df_bus_clean.groupBy('city').count().sort(col(\"count\").desc()).limit(20).toPandas())\n",
    "ax.set_xticklabels(ax.get_xticklabels(), rotation=40, ha=\"right\")\n",
    "ax.set_title('Top 20 Cities with Highest Number of Businesses')"
   ]
  },
  {
   "cell_type": "markdown",
   "metadata": {},
   "source": [
    "### Which Cities have the Most Business Reviews?"
   ]
  },
  {
   "cell_type": "code",
   "execution_count": 28,
   "metadata": {},
   "outputs": [
    {
     "data": {
      "text/plain": [
       "Text(0.5, 1.0, 'Top 20 Cities with Highest Number of Business Reviews')"
      ]
     },
     "execution_count": 28,
     "metadata": {},
     "output_type": "execute_result"
    },
    {
     "data": {
      "image/png": "[encoded data removed]",
      "text/plain": [
       "<Figure size 432x288 with 1 Axes>"
      ]
     },
     "metadata": {
      "needs_background": "light"
     },
     "output_type": "display_data"
    }
   ],
   "source": [
    "ax = sns.barplot(x = 'city', y= 'sum(review_count)', data = df_bus_clean.groupBy('city').sum('review_count').sort(col(\"sum(review_count)\").desc()).limit(20).toPandas())\n",
    "ax.set_xticklabels(ax.get_xticklabels(), rotation=40, ha=\"right\")\n",
    "ax.set_title('Top 20 Cities with Highest Number of Business Reviews')"
   ]
  },
  {
   "cell_type": "markdown",
   "metadata": {},
   "source": [
    "### Average Stars\n",
    "Now we will look at the cities ranked by the average stars of their businesses \\\n",
    "Let's set a minimum number of reviews for a city to be feature first. We will only be looking for average stars of cities with greater than 50,000 reviews."
   ]
  },
  {
   "cell_type": "code",
   "execution_count": 14,
   "metadata": {},
   "outputs": [],
   "source": [
    "bus_pan = df_bus_clean.toPandas()\n",
    "city_business_reviews = bus_pan[['city', 'review_count', 'stars']].groupby(['city']).\\\n",
    "agg({'review_count': 'sum', 'stars': 'mean'}).sort_values(by='review_count', ascending=False)\n"
   ]
  },
  {
   "cell_type": "code",
   "execution_count": 29,
   "metadata": {},
   "outputs": [
    {
     "data": {
      "text/plain": [
       "Text(0.5, 1.0, 'Cities with greater than 50k reviews ranked by average stars')"
      ]
     },
     "execution_count": 29,
     "metadata": {},
     "output_type": "execute_result"
    },
    {
     "data": {
      "image/png": "[encoded data removed]",
      "text/plain": [
       "<Figure size 576x576 with 1 Axes>"
      ]
     },
     "metadata": {
      "needs_background": "light"
     },
     "output_type": "display_data"
    }
   ],
   "source": [
    "city_business_reviews[city_business_reviews.review_count > 50000]['stars'].sort_values()\\\n",
    ".plot(kind='barh', stacked=False, figsize=[8,8], colormap='winter')\n",
    "plt.title('Cities with greater than 50k reviews ranked by average stars')"
   ]
  },
  {
   "cell_type": "code",
   "execution_count": null,
   "metadata": {},
   "outputs": [],
   "source": []
  },
  {
   "cell_type": "code",
   "execution_count": 16,
   "metadata": {},
   "outputs": [
    {
     "name": "stdout",
     "output_type": "stream",
     "text": [
      "+---------------+-----------------+\n",
      "|city           |sum(review_count)|\n",
      "+---------------+-----------------+\n",
      "|Las Vegas      |2360735.0        |\n",
      "|Phoenix        |842317.0         |\n",
      "|Toronto        |583512.0         |\n",
      "|Scottsdale     |439439.0         |\n",
      "|Charlotte      |371580.0         |\n",
      "|Pittsburgh     |262412.0         |\n",
      "|Henderson      |261244.0         |\n",
      "|Tempe          |229594.0         |\n",
      "|Mesa           |197214.0         |\n",
      "|Chandler       |183475.0         |\n",
      "|Montréal       |171059.0         |\n",
      "|Gilbert        |153826.0         |\n",
      "|Cleveland      |129489.0         |\n",
      "|Glendale       |118096.0         |\n",
      "|Madison        |114475.0         |\n",
      "|Calgary        |107106.0         |\n",
      "| PC            |85032.0          |\n",
      "|Peoria         |69539.0          |\n",
      "|Mississauga    |65557.0          |\n",
      "|North Las Vegas|60405.0          |\n",
      "+---------------+-----------------+\n",
      "\n"
     ]
    }
   ],
   "source": [
    "df_bus.groupBy('city').sum('review_count').sort(col(\"sum(review_count)\").desc()).limit(20).show(truncate=False)"
   ]
  },
  {
   "cell_type": "code",
   "execution_count": 17,
   "metadata": {},
   "outputs": [
    {
     "name": "stdout",
     "output_type": "stream",
     "text": [
      "+----------------+----------+\n",
      "|city            |avg(stars)|\n",
      "+----------------+----------+\n",
      "|Nevada          |5.0       |\n",
      "|Garrettsville   |5.0       |\n",
      "|QUEEN CREEK     |5.0       |\n",
      "|Alburg          |5.0       |\n",
      "|Huntington Beach|5.0       |\n",
      "|Bentleyville    |5.0       |\n",
      "|Lakewood, Oh    |5.0       |\n",
      "|East Mesa       |5.0       |\n",
      "|​Gilbert        |5.0       |\n",
      "|Auburn          |5.0       |\n",
      "|HENDERSON       |5.0       |\n",
      "|Sainte-Marthe   |5.0       |\n",
      "|Ahwahtukee      |5.0       |\n",
      "|SCOTTSDALE      |5.0       |\n",
      "|Palgrave        |5.0       |\n",
      "|Litchfield park |5.0       |\n",
      "|Chateau         |5.0       |\n",
      "|Sun CIty        |5.0       |\n",
      "|Fort MILL       |5.0       |\n",
      "|City Center     |5.0       |\n",
      "+----------------+----------+\n",
      "\n"
     ]
    }
   ],
   "source": [
    "df_bus = df_bus.withColumn(\"stars\", df_bus[\"stars\"].cast(\"double\"))\n",
    "df_bus.groupBy('city').mean('stars').sort(col(\"avg(stars)\").desc()).limit(20).show(truncate=False)\n",
    "#.sum('review_count').sort(col(\"sum(review_count)\").desc()).limit(20).show(truncate=False)\n",
    "#df_bus.groupBy('city').sum('review_count').sort(col(\"sum(review_count)\").desc()).limit(20).show(truncate=False)\n",
    "#df_bus[df_bus.review_count > 50000]"
   ]
  },
  {
   "cell_type": "code",
   "execution_count": 18,
   "metadata": {},
   "outputs": [
    {
     "name": "stdout",
     "output_type": "stream",
     "text": [
      "root\n",
      " |-- business_id: string (nullable = true)\n",
      " |-- name: string (nullable = true)\n",
      " |-- address: string (nullable = true)\n",
      " |-- city: string (nullable = true)\n",
      " |-- state: string (nullable = true)\n",
      " |-- postal_code: string (nullable = true)\n",
      " |-- latitude: string (nullable = true)\n",
      " |-- longitude: string (nullable = true)\n",
      " |-- stars: double (nullable = true)\n",
      " |-- review_count: double (nullable = true)\n",
      " |-- is_open: double (nullable = true)\n",
      " |-- categories: string (nullable = true)\n",
      "\n"
     ]
    }
   ],
   "source": [
    "df_bus.printSchema()"
   ]
  },
  {
   "cell_type": "code",
   "execution_count": null,
   "metadata": {},
   "outputs": [],
   "source": []
  },
  {
   "cell_type": "markdown",
   "metadata": {},
   "source": [
    "### Distribution of Stars\n",
    "Let's take a look at the distribution of the stars for businesses. Will there be more businesses with high, middling or low ratings? "
   ]
  },
  {
   "cell_type": "code",
   "execution_count": 20,
   "metadata": {},
   "outputs": [],
   "source": [
    "data_clean_folder = \"gs://ca4022_yelp_data/data_clean/\"\n",
    "\n",
    "df_bus_clean = spark.read.csv(data_clean_folder + \"business.csv\", header=True, sep= \",\", inferSchema=True)"
   ]
  },
  {
   "cell_type": "code",
   "execution_count": 21,
   "metadata": {},
   "outputs": [
    {
     "data": {
      "text/plain": [
       "Text(0.5, 0.98, 'Business Stars Distribution')"
      ]
     },
     "execution_count": 21,
     "metadata": {},
     "output_type": "execute_result"
    },
    {
     "data": {
      "image/png": "[encoded data removed]",
      "text/plain": [
       "<Figure size 360x360 with 1 Axes>"
      ]
     },
     "metadata": {
      "needs_background": "light"
     },
     "output_type": "display_data"
    }
   ],
   "source": [
    "import seaborn as sns\n",
    "ax = sns.displot(df_bus_clean.toPandas(),  x = 'stars')\n",
    "#ax.set_xticklabels(ax.get_xticklabels(), rotation=40, ha=\"right\")\n",
    "#ax.set_title('Distribution of stars')\n",
    "ax.fig.subplots_adjust(top=0.9)\n",
    "ax.fig.suptitle('Business Stars Distribution', fontsize=14)"
   ]
  },
  {
   "cell_type": "markdown",
   "metadata": {},
   "source": [
    "As we can see there is a relatively left-skewed distribution of stars for businesses, with 4.0 being the most common rating. This could lead to the observation that people are more likely to give a rating when they've had a good experience."
   ]
  },
  {
   "cell_type": "code",
   "execution_count": null,
   "metadata": {},
   "outputs": [],
   "source": []
  },
  {
   "cell_type": "code",
   "execution_count": null,
   "metadata": {},
   "outputs": [],
   "source": [
    "\n"
   ]
  },
  {
   "cell_type": "code",
   "execution_count": null,
   "metadata": {},
   "outputs": [],
   "source": []
  },
  {
   "cell_type": "code",
   "execution_count": null,
   "metadata": {},
   "outputs": [],
   "source": []
  }
 ],
 "metadata": {
  "kernelspec": {
   "display_name": "Python 3",
   "language": "python",
   "name": "python3"
  },
  "language_info": {
   "codemirror_mode": {
    "name": "ipython",
    "version": 3
   },
   "file_extension": ".py",
   "mimetype": "text/x-python",
   "name": "python",
   "nbconvert_exporter": "python",
   "pygments_lexer": "ipython3",
   "version": "3.7.4"
  }
 },
 "nbformat": 4,
 "nbformat_minor": 2
}